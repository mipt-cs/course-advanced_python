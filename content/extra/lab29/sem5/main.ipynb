{
  "cells": [
    {
      "cell_type": "markdown",
      "metadata": {
        "id": "djpxOLwhFx22"
      },
      "source": [
        "# Корреляционный анализ"
      ]
    },
    {
      "cell_type": "code",
      "source": [
        "import warnings\n",
        "warnings.filterwarnings(\"ignore\")\n",
        "\n",
        "try:\n",
        "    import google.colab\n",
        "    IN_COLAB = True\n",
        "except:\n",
        "    IN_COLAB = False\n",
        "\n",
        "if IN_COLAB:\n",
        "    !wget -q -O requirements.txt https://raw.githubusercontent.com/Intelligent-Systems-Phystech/psad/master/seminars/sem5/requirements.txt\n",
        "    !pip install -qU -r requirements.txt"
      ],
      "metadata": {
        "id": "GFgvWzPrFzJy",
        "outputId": "654a84c6-7834-4105-f2f2-09f210804f84",
        "colab": {
          "base_uri": "https://localhost:8080/"
        }
      },
      "execution_count": 1,
      "outputs": [
        {
          "output_type": "stream",
          "name": "stdout",
          "text": [
            "\u001b[K     |████████████████████████████████| 12.9 MB 3.8 MB/s \n",
            "\u001b[K     |████████████████████████████████| 38.1 MB 11.6 MB/s \n",
            "\u001b[K     |████████████████████████████████| 9.8 MB 33.9 MB/s \n",
            "\u001b[31mERROR: pip's dependency resolver does not currently take into account all the packages that are installed. This behaviour is the source of the following dependency conflicts.\n",
            "plotnine 0.6.0 requires matplotlib>=3.1.1, but you have matplotlib 3.0.2 which is incompatible.\n",
            "mizani 0.6.0 requires matplotlib>=3.1.1, but you have matplotlib 3.0.2 which is incompatible.\n",
            "albumentations 0.1.12 requires imgaug<0.2.7,>=0.2.5, but you have imgaug 0.2.9 which is incompatible.\u001b[0m\n",
            "\u001b[?25h"
          ]
        }
      ]
    },
    {
      "cell_type": "markdown",
      "metadata": {
        "id": "gf4nB1OvFx28"
      },
      "source": [
        "## Библиотеки"
      ]
    },
    {
      "cell_type": "code",
      "execution_count": 8,
      "metadata": {
        "id": "hAHbDDCqFx29"
      },
      "outputs": [],
      "source": [
        "import numpy as np\n",
        "import pandas as pd\n",
        "import matplotlib.pyplot as plt\n",
        "\n",
        "import scipy.stats as st\n",
        "import seaborn as sns\n",
        "\n",
        "import statsmodels.api as sm"
      ]
    },
    {
      "cell_type": "markdown",
      "metadata": {
        "id": "lwF_Z562Fx2-"
      },
      "source": [
        "## Warmup"
      ]
    },
    {
      "cell_type": "markdown",
      "metadata": {
        "id": "bQzGjQaAFx2-"
      },
      "source": [
        "### Задача\n",
        "\n",
        "Рассмотрим задачу нахождения корреляции Пирсона для двух случайных величин:\n",
        "\n",
        "$X_1 \\sim \\mathcal{N}(0,1), \\qquad X_2 = X_1 + \\alpha\\varepsilon, \\quad \\varepsilon \\sim\\mathcal{N}(0,1)$\n",
        "\n",
        "Какова их корреляция?"
      ]
    },
    {
      "cell_type": "markdown",
      "metadata": {
        "id": "AiMPxtOgFx2_"
      },
      "source": [
        "### Данные"
      ]
    },
    {
      "cell_type": "code",
      "execution_count": 9,
      "metadata": {
        "id": "snFRAx5uFx3B",
        "outputId": "f9919ea3-c91d-4274-b08d-88c282dec191",
        "colab": {
          "base_uri": "https://localhost:8080/"
        }
      },
      "outputs": [
        {
          "output_type": "stream",
          "name": "stdout",
          "text": [
            "0.8944271909999159 1.25\n"
          ]
        }
      ],
      "source": [
        "n = 10\n",
        "\n",
        "alpha = 0.5\n",
        "mean1 = mean2 = 0\n",
        "disp1 =  1\n",
        "disp2 =  1 + alpha**2\n",
        "corr = 1.0/np.sqrt(disp2)\n",
        "\n",
        "print(corr, disp2)"
      ]
    },
    {
      "cell_type": "markdown",
      "metadata": {
        "id": "5Nm6oxssFx3C"
      },
      "source": [
        "### Проверка гипотезы о независимости"
      ]
    },
    {
      "cell_type": "code",
      "execution_count": 10,
      "metadata": {
        "id": "Ubb2uAjvFx3D",
        "outputId": "0c67328b-c339-464f-8423-39257787fee6",
        "colab": {
          "base_uri": "https://localhost:8080/"
        }
      },
      "outputs": [
        {
          "output_type": "stream",
          "name": "stdout",
          "text": [
            "0.1 : 0.9950371902099893 1.0 0.0\n",
            "0.5 : 0.8944271909999159 0.999 0.162\n",
            "1.0 : 0.7071067811865475 0.99 0.937\n",
            "1.5 : 0.5547001962252291 0.972 0.995\n",
            "2.0 : 0.4472135954999579 0.97 0.999\n",
            "2.5 : 0.3713906763541037 0.958 0.999\n",
            "3.0 : 0.31622776601683794 0.954 1.0\n",
            "3.5 : 0.27472112789737807 0.966 1.0\n",
            "4.0 : 0.24253562503633297 0.964 0.999\n",
            "4.5 : 0.21693045781865616 0.955 1.0\n",
            "5.0 : 0.19611613513818404 0.949 1.0\n",
            "5.5 : 0.17888543819998318 0.959 1.0\n",
            "6.0 : 0.1643989873053573 0.949 1.0\n",
            "6.5 : 0.1520571842539411 0.958 1.0\n",
            "7.0 : 0.1414213562373095 0.949 1.0\n",
            "7.5 : 0.13216372009101796 0.947 1.0\n",
            "8.0 : 0.12403473458920847 0.959 1.0\n",
            "8.5 : 0.1168412475673972 0.959 1.0\n",
            "9.0 : 0.11043152607484653 0.942 1.0\n",
            "9.5 : 0.10468478451804275 0.952 1.0\n"
          ]
        }
      ],
      "source": [
        "noises = np.array([0.1] + np.arange(0.5, 10.0, 0.5).tolist())\n",
        "\n",
        "for noise in noises:    \n",
        "    results_t = []\n",
        "    results_z = []\n",
        "    ts = []\n",
        "    zs = []\n",
        "    corr = 1.0/np.sqrt(1+noise**2)\n",
        "    for _ in range(1000):\n",
        "        data1 = np.random.randn(n)\n",
        "        data2 = data1 + noise*np.random.randn(n)\n",
        "        \n",
        "        pearson = st.pearsonr(data1, data2)[0]\n",
        "        if pearson == 1.:\n",
        "            pearson = 0.99999\n",
        "        \n",
        "        T = (pearson - corr) * np.sqrt(n-2)/(np.sqrt(1-pearson**2))\n",
        "        t_pval = 2 *(1 - st.distributions.t(n-2).cdf(abs(T)))\n",
        "\n",
        "        Z = (np.arctanh(pearson) - np.arctanh(corr)*np.sqrt(n-3))\n",
        "        z_pval = 2*(1 - st.distributions.norm.cdf(abs(Z)))\n",
        "\n",
        "        t_res = t_pval>=0.05\n",
        "        z_res = z_pval>=0.05\n",
        "\n",
        "        ts.append(t_pval)\n",
        "        zs.append(z_pval)\n",
        "\n",
        "        results_t.append(t_res)\n",
        "        results_z.append(z_res)\n",
        "        \n",
        "    print(noise, ':', corr, np.mean(results_t), np.mean(results_z))"
      ]
    },
    {
      "cell_type": "markdown",
      "metadata": {
        "id": "NKuac4VyFx3E"
      },
      "source": [
        "### Добавление выброса"
      ]
    },
    {
      "cell_type": "code",
      "execution_count": 11,
      "metadata": {
        "id": "Vd7LNl0RFx3G",
        "outputId": "416f0c4f-8903-4285-88fd-cf82b17bd6f3",
        "colab": {
          "base_uri": "https://localhost:8080/"
        }
      },
      "outputs": [
        {
          "output_type": "execute_result",
          "data": {
            "text/plain": [
              "0.7071067811865475"
            ]
          },
          "metadata": {},
          "execution_count": 11
        }
      ],
      "source": [
        "n = 100000\n",
        "data1 = np.random.randn(n)\n",
        "data2 = data1 + 0.2*np.random.randn(n)\n",
        "mean1 = mean2 = 0\n",
        "disp1 = 1\n",
        "disp2 = 1+1**2\n",
        "corr = 1.0/np.sqrt(disp2)\n",
        "corr"
      ]
    },
    {
      "cell_type": "code",
      "execution_count": 12,
      "metadata": {
        "id": "lSPGlIQGFx3G"
      },
      "outputs": [],
      "source": [
        "data1_new = data1.copy()\n",
        "data2_new = data2.copy()\n",
        "data1_new[0] += 9999"
      ]
    },
    {
      "cell_type": "code",
      "execution_count": 13,
      "metadata": {
        "id": "lptkdJWeFx3H",
        "outputId": "5eae9cb8-8e15-4aa9-a5f5-3302cfe29ea8",
        "colab": {
          "base_uri": "https://localhost:8080/"
        }
      },
      "outputs": [
        {
          "output_type": "execute_result",
          "data": {
            "text/plain": [
              "(0.9807353562362009, 0.0349699930479387)"
            ]
          },
          "metadata": {},
          "execution_count": 13
        }
      ],
      "source": [
        "st.pearsonr(data1, data2)[0], st.pearsonr(data1_new, data2_new)[0]"
      ]
    },
    {
      "cell_type": "code",
      "execution_count": 14,
      "metadata": {
        "id": "xECv375SFx3H",
        "outputId": "30a542ce-fbb1-40ad-e2e6-6f6ef785ea4b",
        "colab": {
          "base_uri": "https://localhost:8080/"
        }
      },
      "outputs": [
        {
          "output_type": "execute_result",
          "data": {
            "text/plain": [
              "(0.9788737015344996, 0.9788731790139275)"
            ]
          },
          "metadata": {},
          "execution_count": 14
        }
      ],
      "source": [
        "st.spearmanr(data1, data2)[0], st.spearmanr(data1_new, data2_new)[0]"
      ]
    },
    {
      "cell_type": "code",
      "execution_count": 15,
      "metadata": {
        "id": "QtZn4NKlFx3I",
        "outputId": "45dd9781-150e-4197-fbb9-7cfe7447c3ab",
        "colab": {
          "base_uri": "https://localhost:8080/"
        }
      },
      "outputs": [
        {
          "output_type": "execute_result",
          "data": {
            "text/plain": [
              "(0.8748948017480177, 0.8748920329203294)"
            ]
          },
          "metadata": {},
          "execution_count": 15
        }
      ],
      "source": [
        "st.kendalltau(data1, data2)[0], st.kendalltau(data1_new, data2_new)[0]"
      ]
    },
    {
      "cell_type": "markdown",
      "metadata": {
        "id": "_p0sGVhiFx3K"
      },
      "source": [
        "### Корреляция рангов"
      ]
    },
    {
      "cell_type": "code",
      "execution_count": 16,
      "metadata": {
        "id": "04owyR_KFx3L",
        "outputId": "6d0ad72d-7022-4957-f276-4063cdba38bf",
        "colab": {
          "base_uri": "https://localhost:8080/"
        }
      },
      "outputs": [
        {
          "output_type": "execute_result",
          "data": {
            "text/plain": [
              "array([6., 1., 5., 4., 3., 2.])"
            ]
          },
          "metadata": {},
          "execution_count": 16
        }
      ],
      "source": [
        "data = np.array([6, 1, 5, 4, 3, 2])\n",
        "st.rankdata(data)"
      ]
    },
    {
      "cell_type": "code",
      "source": [
        "np.argsort(np.argsort(data)) + 1"
      ],
      "metadata": {
        "id": "Tau2_hDeMVhY",
        "outputId": "02341fa5-798d-435f-da2b-51d4a06f7bcf",
        "colab": {
          "base_uri": "https://localhost:8080/"
        }
      },
      "execution_count": 17,
      "outputs": [
        {
          "output_type": "execute_result",
          "data": {
            "text/plain": [
              "array([6, 1, 5, 4, 3, 2])"
            ]
          },
          "metadata": {},
          "execution_count": 17
        }
      ]
    },
    {
      "cell_type": "code",
      "execution_count": 18,
      "metadata": {
        "id": "M37BoUUxFx3M",
        "outputId": "ee440b57-b458-4b3c-93d6-bd0fcd2f5fc5",
        "colab": {
          "base_uri": "https://localhost:8080/"
        }
      },
      "outputs": [
        {
          "output_type": "execute_result",
          "data": {
            "text/plain": [
              "(0.9788737015344993, 0.0)"
            ]
          },
          "metadata": {},
          "execution_count": 18
        }
      ],
      "source": [
        "ranks1 = st.rankdata(data1)\n",
        "ranks2 = st.rankdata(data2)\n",
        "\n",
        "st.pearsonr(ranks1, ranks2)"
      ]
    },
    {
      "cell_type": "markdown",
      "metadata": {
        "id": "ezDDw5EyFx3M"
      },
      "source": [
        "## Успеваемость первокурсников\n",
        "\n",
        "Для 600 первокурсников известны показатели успеваемости по четырём предметам и результаты трёх психологических тестов. Как связаны эти два набора переменных?\n",
        "\n"
      ]
    },
    {
      "cell_type": "code",
      "execution_count": 19,
      "metadata": {
        "id": "jlrgkFJSFx3N"
      },
      "outputs": [],
      "source": [
        "data = pd.read_csv('https://raw.githubusercontent.com/Intelligent-Systems-Phystech/psad/master/seminars/sem5/data/mmreg.csv',  sep=',')"
      ]
    },
    {
      "cell_type": "code",
      "execution_count": 20,
      "metadata": {
        "id": "wUDpEWEHFx3N",
        "outputId": "44d142f0-0b27-4834-c852-3d932734e2b6",
        "colab": {
          "base_uri": "https://localhost:8080/",
          "height": 204
        }
      },
      "outputs": [
        {
          "output_type": "execute_result",
          "data": {
            "text/html": [
              "\n",
              "  <div id=\"df-0d39b6bb-5e34-4565-a5fa-7335b003e384\">\n",
              "    <div class=\"colab-df-container\">\n",
              "      <div>\n",
              "<style scoped>\n",
              "    .dataframe tbody tr th:only-of-type {\n",
              "        vertical-align: middle;\n",
              "    }\n",
              "\n",
              "    .dataframe tbody tr th {\n",
              "        vertical-align: top;\n",
              "    }\n",
              "\n",
              "    .dataframe thead th {\n",
              "        text-align: right;\n",
              "    }\n",
              "</style>\n",
              "<table border=\"1\" class=\"dataframe\">\n",
              "  <thead>\n",
              "    <tr style=\"text-align: right;\">\n",
              "      <th></th>\n",
              "      <th>locus_of_control</th>\n",
              "      <th>self_concept</th>\n",
              "      <th>motivation</th>\n",
              "      <th>read</th>\n",
              "      <th>write</th>\n",
              "      <th>math</th>\n",
              "      <th>science</th>\n",
              "    </tr>\n",
              "  </thead>\n",
              "  <tbody>\n",
              "    <tr>\n",
              "      <th>0</th>\n",
              "      <td>-0.84</td>\n",
              "      <td>-0.24</td>\n",
              "      <td>1.00</td>\n",
              "      <td>54.8</td>\n",
              "      <td>64.5</td>\n",
              "      <td>44.5</td>\n",
              "      <td>52.6</td>\n",
              "    </tr>\n",
              "    <tr>\n",
              "      <th>1</th>\n",
              "      <td>-0.38</td>\n",
              "      <td>-0.47</td>\n",
              "      <td>0.67</td>\n",
              "      <td>62.7</td>\n",
              "      <td>43.7</td>\n",
              "      <td>44.7</td>\n",
              "      <td>52.6</td>\n",
              "    </tr>\n",
              "    <tr>\n",
              "      <th>2</th>\n",
              "      <td>0.89</td>\n",
              "      <td>0.59</td>\n",
              "      <td>0.67</td>\n",
              "      <td>60.6</td>\n",
              "      <td>56.7</td>\n",
              "      <td>70.5</td>\n",
              "      <td>58.0</td>\n",
              "    </tr>\n",
              "    <tr>\n",
              "      <th>3</th>\n",
              "      <td>0.71</td>\n",
              "      <td>0.28</td>\n",
              "      <td>0.67</td>\n",
              "      <td>62.7</td>\n",
              "      <td>56.7</td>\n",
              "      <td>54.7</td>\n",
              "      <td>58.0</td>\n",
              "    </tr>\n",
              "    <tr>\n",
              "      <th>4</th>\n",
              "      <td>-0.64</td>\n",
              "      <td>0.03</td>\n",
              "      <td>1.00</td>\n",
              "      <td>41.6</td>\n",
              "      <td>46.3</td>\n",
              "      <td>38.4</td>\n",
              "      <td>36.3</td>\n",
              "    </tr>\n",
              "  </tbody>\n",
              "</table>\n",
              "</div>\n",
              "      <button class=\"colab-df-convert\" onclick=\"convertToInteractive('df-0d39b6bb-5e34-4565-a5fa-7335b003e384')\"\n",
              "              title=\"Convert this dataframe to an interactive table.\"\n",
              "              style=\"display:none;\">\n",
              "        \n",
              "  <svg xmlns=\"http://www.w3.org/2000/svg\" height=\"24px\"viewBox=\"0 0 24 24\"\n",
              "       width=\"24px\">\n",
              "    <path d=\"M0 0h24v24H0V0z\" fill=\"none\"/>\n",
              "    <path d=\"M18.56 5.44l.94 2.06.94-2.06 2.06-.94-2.06-.94-.94-2.06-.94 2.06-2.06.94zm-11 1L8.5 8.5l.94-2.06 2.06-.94-2.06-.94L8.5 2.5l-.94 2.06-2.06.94zm10 10l.94 2.06.94-2.06 2.06-.94-2.06-.94-.94-2.06-.94 2.06-2.06.94z\"/><path d=\"M17.41 7.96l-1.37-1.37c-.4-.4-.92-.59-1.43-.59-.52 0-1.04.2-1.43.59L10.3 9.45l-7.72 7.72c-.78.78-.78 2.05 0 2.83L4 21.41c.39.39.9.59 1.41.59.51 0 1.02-.2 1.41-.59l7.78-7.78 2.81-2.81c.8-.78.8-2.07 0-2.86zM5.41 20L4 18.59l7.72-7.72 1.47 1.35L5.41 20z\"/>\n",
              "  </svg>\n",
              "      </button>\n",
              "      \n",
              "  <style>\n",
              "    .colab-df-container {\n",
              "      display:flex;\n",
              "      flex-wrap:wrap;\n",
              "      gap: 12px;\n",
              "    }\n",
              "\n",
              "    .colab-df-convert {\n",
              "      background-color: #E8F0FE;\n",
              "      border: none;\n",
              "      border-radius: 50%;\n",
              "      cursor: pointer;\n",
              "      display: none;\n",
              "      fill: #1967D2;\n",
              "      height: 32px;\n",
              "      padding: 0 0 0 0;\n",
              "      width: 32px;\n",
              "    }\n",
              "\n",
              "    .colab-df-convert:hover {\n",
              "      background-color: #E2EBFA;\n",
              "      box-shadow: 0px 1px 2px rgba(60, 64, 67, 0.3), 0px 1px 3px 1px rgba(60, 64, 67, 0.15);\n",
              "      fill: #174EA6;\n",
              "    }\n",
              "\n",
              "    [theme=dark] .colab-df-convert {\n",
              "      background-color: #3B4455;\n",
              "      fill: #D2E3FC;\n",
              "    }\n",
              "\n",
              "    [theme=dark] .colab-df-convert:hover {\n",
              "      background-color: #434B5C;\n",
              "      box-shadow: 0px 1px 3px 1px rgba(0, 0, 0, 0.15);\n",
              "      filter: drop-shadow(0px 1px 2px rgba(0, 0, 0, 0.3));\n",
              "      fill: #FFFFFF;\n",
              "    }\n",
              "  </style>\n",
              "\n",
              "      <script>\n",
              "        const buttonEl =\n",
              "          document.querySelector('#df-0d39b6bb-5e34-4565-a5fa-7335b003e384 button.colab-df-convert');\n",
              "        buttonEl.style.display =\n",
              "          google.colab.kernel.accessAllowed ? 'block' : 'none';\n",
              "\n",
              "        async function convertToInteractive(key) {\n",
              "          const element = document.querySelector('#df-0d39b6bb-5e34-4565-a5fa-7335b003e384');\n",
              "          const dataTable =\n",
              "            await google.colab.kernel.invokeFunction('convertToInteractive',\n",
              "                                                     [key], {});\n",
              "          if (!dataTable) return;\n",
              "\n",
              "          const docLinkHtml = 'Like what you see? Visit the ' +\n",
              "            '<a target=\"_blank\" href=https://colab.research.google.com/notebooks/data_table.ipynb>data table notebook</a>'\n",
              "            + ' to learn more about interactive tables.';\n",
              "          element.innerHTML = '';\n",
              "          dataTable['output_type'] = 'display_data';\n",
              "          await google.colab.output.renderOutput(dataTable, element);\n",
              "          const docLink = document.createElement('div');\n",
              "          docLink.innerHTML = docLinkHtml;\n",
              "          element.appendChild(docLink);\n",
              "        }\n",
              "      </script>\n",
              "    </div>\n",
              "  </div>\n",
              "  "
            ],
            "text/plain": [
              "   locus_of_control  self_concept  motivation  read  write  math  science\n",
              "0             -0.84         -0.24        1.00  54.8   64.5  44.5     52.6\n",
              "1             -0.38         -0.47        0.67  62.7   43.7  44.7     52.6\n",
              "2              0.89          0.59        0.67  60.6   56.7  70.5     58.0\n",
              "3              0.71          0.28        0.67  62.7   56.7  54.7     58.0\n",
              "4             -0.64          0.03        1.00  41.6   46.3  38.4     36.3"
            ]
          },
          "metadata": {},
          "execution_count": 20
        }
      ],
      "source": [
        "data.head()"
      ]
    },
    {
      "cell_type": "code",
      "execution_count": 21,
      "metadata": {
        "id": "_2_Sjx9fFx3O",
        "outputId": "068228f3-bb56-4645-aa29-030d96ccabeb",
        "colab": {
          "base_uri": "https://localhost:8080/",
          "height": 204
        }
      },
      "outputs": [
        {
          "output_type": "execute_result",
          "data": {
            "text/html": [
              "\n",
              "  <div id=\"df-e5a248ca-e8b6-45c5-862e-453e8c1fd2e6\">\n",
              "    <div class=\"colab-df-container\">\n",
              "      <div>\n",
              "<style scoped>\n",
              "    .dataframe tbody tr th:only-of-type {\n",
              "        vertical-align: middle;\n",
              "    }\n",
              "\n",
              "    .dataframe tbody tr th {\n",
              "        vertical-align: top;\n",
              "    }\n",
              "\n",
              "    .dataframe thead th {\n",
              "        text-align: right;\n",
              "    }\n",
              "</style>\n",
              "<table border=\"1\" class=\"dataframe\">\n",
              "  <thead>\n",
              "    <tr style=\"text-align: right;\">\n",
              "      <th></th>\n",
              "      <th>locus_of_control</th>\n",
              "      <th>self_concept</th>\n",
              "      <th>motivation</th>\n",
              "    </tr>\n",
              "  </thead>\n",
              "  <tbody>\n",
              "    <tr>\n",
              "      <th>0</th>\n",
              "      <td>-0.84</td>\n",
              "      <td>-0.24</td>\n",
              "      <td>1.00</td>\n",
              "    </tr>\n",
              "    <tr>\n",
              "      <th>1</th>\n",
              "      <td>-0.38</td>\n",
              "      <td>-0.47</td>\n",
              "      <td>0.67</td>\n",
              "    </tr>\n",
              "    <tr>\n",
              "      <th>2</th>\n",
              "      <td>0.89</td>\n",
              "      <td>0.59</td>\n",
              "      <td>0.67</td>\n",
              "    </tr>\n",
              "    <tr>\n",
              "      <th>3</th>\n",
              "      <td>0.71</td>\n",
              "      <td>0.28</td>\n",
              "      <td>0.67</td>\n",
              "    </tr>\n",
              "    <tr>\n",
              "      <th>4</th>\n",
              "      <td>-0.64</td>\n",
              "      <td>0.03</td>\n",
              "      <td>1.00</td>\n",
              "    </tr>\n",
              "  </tbody>\n",
              "</table>\n",
              "</div>\n",
              "      <button class=\"colab-df-convert\" onclick=\"convertToInteractive('df-e5a248ca-e8b6-45c5-862e-453e8c1fd2e6')\"\n",
              "              title=\"Convert this dataframe to an interactive table.\"\n",
              "              style=\"display:none;\">\n",
              "        \n",
              "  <svg xmlns=\"http://www.w3.org/2000/svg\" height=\"24px\"viewBox=\"0 0 24 24\"\n",
              "       width=\"24px\">\n",
              "    <path d=\"M0 0h24v24H0V0z\" fill=\"none\"/>\n",
              "    <path d=\"M18.56 5.44l.94 2.06.94-2.06 2.06-.94-2.06-.94-.94-2.06-.94 2.06-2.06.94zm-11 1L8.5 8.5l.94-2.06 2.06-.94-2.06-.94L8.5 2.5l-.94 2.06-2.06.94zm10 10l.94 2.06.94-2.06 2.06-.94-2.06-.94-.94-2.06-.94 2.06-2.06.94z\"/><path d=\"M17.41 7.96l-1.37-1.37c-.4-.4-.92-.59-1.43-.59-.52 0-1.04.2-1.43.59L10.3 9.45l-7.72 7.72c-.78.78-.78 2.05 0 2.83L4 21.41c.39.39.9.59 1.41.59.51 0 1.02-.2 1.41-.59l7.78-7.78 2.81-2.81c.8-.78.8-2.07 0-2.86zM5.41 20L4 18.59l7.72-7.72 1.47 1.35L5.41 20z\"/>\n",
              "  </svg>\n",
              "      </button>\n",
              "      \n",
              "  <style>\n",
              "    .colab-df-container {\n",
              "      display:flex;\n",
              "      flex-wrap:wrap;\n",
              "      gap: 12px;\n",
              "    }\n",
              "\n",
              "    .colab-df-convert {\n",
              "      background-color: #E8F0FE;\n",
              "      border: none;\n",
              "      border-radius: 50%;\n",
              "      cursor: pointer;\n",
              "      display: none;\n",
              "      fill: #1967D2;\n",
              "      height: 32px;\n",
              "      padding: 0 0 0 0;\n",
              "      width: 32px;\n",
              "    }\n",
              "\n",
              "    .colab-df-convert:hover {\n",
              "      background-color: #E2EBFA;\n",
              "      box-shadow: 0px 1px 2px rgba(60, 64, 67, 0.3), 0px 1px 3px 1px rgba(60, 64, 67, 0.15);\n",
              "      fill: #174EA6;\n",
              "    }\n",
              "\n",
              "    [theme=dark] .colab-df-convert {\n",
              "      background-color: #3B4455;\n",
              "      fill: #D2E3FC;\n",
              "    }\n",
              "\n",
              "    [theme=dark] .colab-df-convert:hover {\n",
              "      background-color: #434B5C;\n",
              "      box-shadow: 0px 1px 3px 1px rgba(0, 0, 0, 0.15);\n",
              "      filter: drop-shadow(0px 1px 2px rgba(0, 0, 0, 0.3));\n",
              "      fill: #FFFFFF;\n",
              "    }\n",
              "  </style>\n",
              "\n",
              "      <script>\n",
              "        const buttonEl =\n",
              "          document.querySelector('#df-e5a248ca-e8b6-45c5-862e-453e8c1fd2e6 button.colab-df-convert');\n",
              "        buttonEl.style.display =\n",
              "          google.colab.kernel.accessAllowed ? 'block' : 'none';\n",
              "\n",
              "        async function convertToInteractive(key) {\n",
              "          const element = document.querySelector('#df-e5a248ca-e8b6-45c5-862e-453e8c1fd2e6');\n",
              "          const dataTable =\n",
              "            await google.colab.kernel.invokeFunction('convertToInteractive',\n",
              "                                                     [key], {});\n",
              "          if (!dataTable) return;\n",
              "\n",
              "          const docLinkHtml = 'Like what you see? Visit the ' +\n",
              "            '<a target=\"_blank\" href=https://colab.research.google.com/notebooks/data_table.ipynb>data table notebook</a>'\n",
              "            + ' to learn more about interactive tables.';\n",
              "          element.innerHTML = '';\n",
              "          dataTable['output_type'] = 'display_data';\n",
              "          await google.colab.output.renderOutput(dataTable, element);\n",
              "          const docLink = document.createElement('div');\n",
              "          docLink.innerHTML = docLinkHtml;\n",
              "          element.appendChild(docLink);\n",
              "        }\n",
              "      </script>\n",
              "    </div>\n",
              "  </div>\n",
              "  "
            ],
            "text/plain": [
              "   locus_of_control  self_concept  motivation\n",
              "0             -0.84         -0.24        1.00\n",
              "1             -0.38         -0.47        0.67\n",
              "2              0.89          0.59        0.67\n",
              "3              0.71          0.28        0.67\n",
              "4             -0.64          0.03        1.00"
            ]
          },
          "metadata": {},
          "execution_count": 21
        }
      ],
      "source": [
        "psych = data.loc[:, data.columns[:3]]\n",
        "psych.head()"
      ]
    },
    {
      "cell_type": "code",
      "execution_count": 22,
      "metadata": {
        "id": "w-TL-wN6Fx3Q",
        "outputId": "30353156-2c0d-49c3-94c9-89c6c0da7c42",
        "colab": {
          "base_uri": "https://localhost:8080/",
          "height": 204
        }
      },
      "outputs": [
        {
          "output_type": "execute_result",
          "data": {
            "text/html": [
              "\n",
              "  <div id=\"df-801b690a-af22-43b4-8df1-cb90bdcceb1e\">\n",
              "    <div class=\"colab-df-container\">\n",
              "      <div>\n",
              "<style scoped>\n",
              "    .dataframe tbody tr th:only-of-type {\n",
              "        vertical-align: middle;\n",
              "    }\n",
              "\n",
              "    .dataframe tbody tr th {\n",
              "        vertical-align: top;\n",
              "    }\n",
              "\n",
              "    .dataframe thead th {\n",
              "        text-align: right;\n",
              "    }\n",
              "</style>\n",
              "<table border=\"1\" class=\"dataframe\">\n",
              "  <thead>\n",
              "    <tr style=\"text-align: right;\">\n",
              "      <th></th>\n",
              "      <th>read</th>\n",
              "      <th>write</th>\n",
              "      <th>math</th>\n",
              "      <th>science</th>\n",
              "    </tr>\n",
              "  </thead>\n",
              "  <tbody>\n",
              "    <tr>\n",
              "      <th>0</th>\n",
              "      <td>54.8</td>\n",
              "      <td>64.5</td>\n",
              "      <td>44.5</td>\n",
              "      <td>52.6</td>\n",
              "    </tr>\n",
              "    <tr>\n",
              "      <th>1</th>\n",
              "      <td>62.7</td>\n",
              "      <td>43.7</td>\n",
              "      <td>44.7</td>\n",
              "      <td>52.6</td>\n",
              "    </tr>\n",
              "    <tr>\n",
              "      <th>2</th>\n",
              "      <td>60.6</td>\n",
              "      <td>56.7</td>\n",
              "      <td>70.5</td>\n",
              "      <td>58.0</td>\n",
              "    </tr>\n",
              "    <tr>\n",
              "      <th>3</th>\n",
              "      <td>62.7</td>\n",
              "      <td>56.7</td>\n",
              "      <td>54.7</td>\n",
              "      <td>58.0</td>\n",
              "    </tr>\n",
              "    <tr>\n",
              "      <th>4</th>\n",
              "      <td>41.6</td>\n",
              "      <td>46.3</td>\n",
              "      <td>38.4</td>\n",
              "      <td>36.3</td>\n",
              "    </tr>\n",
              "  </tbody>\n",
              "</table>\n",
              "</div>\n",
              "      <button class=\"colab-df-convert\" onclick=\"convertToInteractive('df-801b690a-af22-43b4-8df1-cb90bdcceb1e')\"\n",
              "              title=\"Convert this dataframe to an interactive table.\"\n",
              "              style=\"display:none;\">\n",
              "        \n",
              "  <svg xmlns=\"http://www.w3.org/2000/svg\" height=\"24px\"viewBox=\"0 0 24 24\"\n",
              "       width=\"24px\">\n",
              "    <path d=\"M0 0h24v24H0V0z\" fill=\"none\"/>\n",
              "    <path d=\"M18.56 5.44l.94 2.06.94-2.06 2.06-.94-2.06-.94-.94-2.06-.94 2.06-2.06.94zm-11 1L8.5 8.5l.94-2.06 2.06-.94-2.06-.94L8.5 2.5l-.94 2.06-2.06.94zm10 10l.94 2.06.94-2.06 2.06-.94-2.06-.94-.94-2.06-.94 2.06-2.06.94z\"/><path d=\"M17.41 7.96l-1.37-1.37c-.4-.4-.92-.59-1.43-.59-.52 0-1.04.2-1.43.59L10.3 9.45l-7.72 7.72c-.78.78-.78 2.05 0 2.83L4 21.41c.39.39.9.59 1.41.59.51 0 1.02-.2 1.41-.59l7.78-7.78 2.81-2.81c.8-.78.8-2.07 0-2.86zM5.41 20L4 18.59l7.72-7.72 1.47 1.35L5.41 20z\"/>\n",
              "  </svg>\n",
              "      </button>\n",
              "      \n",
              "  <style>\n",
              "    .colab-df-container {\n",
              "      display:flex;\n",
              "      flex-wrap:wrap;\n",
              "      gap: 12px;\n",
              "    }\n",
              "\n",
              "    .colab-df-convert {\n",
              "      background-color: #E8F0FE;\n",
              "      border: none;\n",
              "      border-radius: 50%;\n",
              "      cursor: pointer;\n",
              "      display: none;\n",
              "      fill: #1967D2;\n",
              "      height: 32px;\n",
              "      padding: 0 0 0 0;\n",
              "      width: 32px;\n",
              "    }\n",
              "\n",
              "    .colab-df-convert:hover {\n",
              "      background-color: #E2EBFA;\n",
              "      box-shadow: 0px 1px 2px rgba(60, 64, 67, 0.3), 0px 1px 3px 1px rgba(60, 64, 67, 0.15);\n",
              "      fill: #174EA6;\n",
              "    }\n",
              "\n",
              "    [theme=dark] .colab-df-convert {\n",
              "      background-color: #3B4455;\n",
              "      fill: #D2E3FC;\n",
              "    }\n",
              "\n",
              "    [theme=dark] .colab-df-convert:hover {\n",
              "      background-color: #434B5C;\n",
              "      box-shadow: 0px 1px 3px 1px rgba(0, 0, 0, 0.15);\n",
              "      filter: drop-shadow(0px 1px 2px rgba(0, 0, 0, 0.3));\n",
              "      fill: #FFFFFF;\n",
              "    }\n",
              "  </style>\n",
              "\n",
              "      <script>\n",
              "        const buttonEl =\n",
              "          document.querySelector('#df-801b690a-af22-43b4-8df1-cb90bdcceb1e button.colab-df-convert');\n",
              "        buttonEl.style.display =\n",
              "          google.colab.kernel.accessAllowed ? 'block' : 'none';\n",
              "\n",
              "        async function convertToInteractive(key) {\n",
              "          const element = document.querySelector('#df-801b690a-af22-43b4-8df1-cb90bdcceb1e');\n",
              "          const dataTable =\n",
              "            await google.colab.kernel.invokeFunction('convertToInteractive',\n",
              "                                                     [key], {});\n",
              "          if (!dataTable) return;\n",
              "\n",
              "          const docLinkHtml = 'Like what you see? Visit the ' +\n",
              "            '<a target=\"_blank\" href=https://colab.research.google.com/notebooks/data_table.ipynb>data table notebook</a>'\n",
              "            + ' to learn more about interactive tables.';\n",
              "          element.innerHTML = '';\n",
              "          dataTable['output_type'] = 'display_data';\n",
              "          await google.colab.output.renderOutput(dataTable, element);\n",
              "          const docLink = document.createElement('div');\n",
              "          docLink.innerHTML = docLinkHtml;\n",
              "          element.appendChild(docLink);\n",
              "        }\n",
              "      </script>\n",
              "    </div>\n",
              "  </div>\n",
              "  "
            ],
            "text/plain": [
              "   read  write  math  science\n",
              "0  54.8   64.5  44.5     52.6\n",
              "1  62.7   43.7  44.7     52.6\n",
              "2  60.6   56.7  70.5     58.0\n",
              "3  62.7   56.7  54.7     58.0\n",
              "4  41.6   46.3  38.4     36.3"
            ]
          },
          "metadata": {},
          "execution_count": 22
        }
      ],
      "source": [
        "acad = data.loc[:, data.columns[3:]]\n",
        "acad.head()"
      ]
    },
    {
      "cell_type": "code",
      "execution_count": 23,
      "metadata": {
        "id": "zAB2Hr8cFx3R",
        "outputId": "f1400abe-9ecc-432a-b687-9a33c0e12f88",
        "colab": {
          "base_uri": "https://localhost:8080/",
          "height": 550
        }
      },
      "outputs": [
        {
          "output_type": "display_data",
          "data": {
            "image/png": "[encoded data removed]",
            "text/plain": [
              "<Figure size 540x540 with 12 Axes>"
            ]
          },
          "metadata": {
            "needs_background": "light"
          }
        }
      ],
      "source": [
        "_ = sns.pairplot(psych)"
      ]
    },
    {
      "cell_type": "code",
      "execution_count": 24,
      "metadata": {
        "id": "IBTdMBjoFx3W",
        "outputId": "f20c7c62-b27d-449e-9256-1acdfc77a3af",
        "colab": {
          "base_uri": "https://localhost:8080/",
          "height": 726
        }
      },
      "outputs": [
        {
          "output_type": "display_data",
          "data": {
            "image/png": "[encoded data removed]",
            "text/plain": [
              "<Figure size 720x720 with 20 Axes>"
            ]
          },
          "metadata": {
            "needs_background": "light"
          }
        }
      ],
      "source": [
        "_ = sns.pairplot(acad)"
      ]
    },
    {
      "cell_type": "markdown",
      "metadata": {
        "id": "aQtx5PKKFx3W"
      },
      "source": [
        "### Попарные корреляции Пирсона:"
      ]
    },
    {
      "cell_type": "code",
      "execution_count": 25,
      "metadata": {
        "id": "_AyckiHQFx3Y",
        "outputId": "00a4ecea-e4c8-4af3-a904-7c5d559ef767",
        "colab": {
          "base_uri": "https://localhost:8080/"
        }
      },
      "outputs": [
        {
          "output_type": "execute_result",
          "data": {
            "text/plain": [
              "array([[1.        , 0.62859089, 0.67927568, 0.69069291],\n",
              "       [0.62859089, 1.        , 0.6326664 , 0.56914983],\n",
              "       [0.67927568, 0.6326664 , 1.        , 0.64952612],\n",
              "       [0.69069291, 0.56914983, 0.64952612, 1.        ]])"
            ]
          },
          "metadata": {},
          "execution_count": 25
        }
      ],
      "source": [
        "np.corrcoef(acad.values.T)"
      ]
    },
    {
      "cell_type": "code",
      "execution_count": 26,
      "metadata": {
        "id": "bR7QZeU5Fx3Y",
        "outputId": "1cb45c1c-2afe-4780-cbd5-f3658cde0cf1",
        "colab": {
          "base_uri": "https://localhost:8080/",
          "height": 269
        }
      },
      "outputs": [
        {
          "output_type": "display_data",
          "data": {
            "image/png": "[encoded data removed]",
            "text/plain": [
              "<Figure size 432x288 with 2 Axes>"
            ]
          },
          "metadata": {
            "needs_background": "light"
          }
        }
      ],
      "source": [
        "_ = sns.heatmap(acad.corr(),annot= True,linewidths=0.5,fmt = \".1f\")"
      ]
    },
    {
      "cell_type": "code",
      "execution_count": 27,
      "metadata": {
        "id": "N4F5QwVpFx3a",
        "outputId": "e4abfb2d-dc01-4e38-b7ef-b9d983ff8112",
        "colab": {
          "base_uri": "https://localhost:8080/",
          "height": 270
        }
      },
      "outputs": [
        {
          "output_type": "display_data",
          "data": {
            "image/png": "[encoded data removed]",
            "text/plain": [
              "<Figure size 432x288 with 2 Axes>"
            ]
          },
          "metadata": {
            "needs_background": "light"
          }
        }
      ],
      "source": [
        "_ = sns.heatmap(psych.corr(), annot= True, linewidths=0.5,fmt = \".1f\")"
      ]
    },
    {
      "cell_type": "code",
      "execution_count": 28,
      "metadata": {
        "id": "Yfr2B1vxFx3b",
        "outputId": "2e40aa78-b165-4922-c565-2667e9de7bc7",
        "colab": {
          "base_uri": "https://localhost:8080/",
          "height": 339
        }
      },
      "outputs": [
        {
          "output_type": "display_data",
          "data": {
            "image/png": "[encoded data removed]",
            "text/plain": [
              "<Figure size 432x288 with 2 Axes>"
            ]
          },
          "metadata": {
            "needs_background": "light"
          }
        }
      ],
      "source": [
        "_ = sns.heatmap(data.corr(),annot= True,linewidths=0.5,fmt = \".1f\")"
      ]
    },
    {
      "cell_type": "markdown",
      "metadata": {
        "id": "mM6WmTDIFx3c"
      },
      "source": [
        "### Рассмотрим различные виды корреляций и их p-value:"
      ]
    },
    {
      "cell_type": "code",
      "execution_count": 29,
      "metadata": {
        "id": "EHQfer7wFx3e",
        "outputId": "4d2baaee-08a5-4dfe-fd5d-36de53c73938",
        "colab": {
          "base_uri": "https://localhost:8080/"
        }
      },
      "outputs": [
        {
          "output_type": "stream",
          "name": "stdout",
          "text": [
            "locus_of_control read (0.37356504947514746, 2.627397942780776e-21)\n",
            "locus_of_control write (0.3588768420819804, 1.1221310828193684e-19)\n",
            "locus_of_control math (0.3372689906279467, 1.991716189030117e-17)\n",
            "locus_of_control science (0.3246269370017945, 3.43272775288557e-16)\n",
            "self_concept read (0.06065584275433424, 0.1378017616955153)\n",
            "self_concept write (0.01944856136434241, 0.6344719269000973)\n",
            "self_concept math (0.05359770276536924, 0.189832437244966)\n",
            "self_concept science (0.06982633008189815, 0.08746792544962763)\n",
            "motivation read (0.21060992276201443, 1.923105143899276e-07)\n",
            "motivation write (0.25424817594744153, 2.633931797328235e-10)\n",
            "motivation math (0.19501347444887498, 1.485623794378294e-06)\n",
            "motivation science (0.11566947603763432, 0.004554941088249463)\n",
            "locus_of_control read (0.3601422423341907, 8.182164140514947e-20)\n",
            "locus_of_control write (0.3326876192140294, 5.674711505007227e-17)\n",
            "locus_of_control math (0.3225522195783023, 5.408667273460768e-16)\n",
            "locus_of_control science (0.3215329829066887, 6.753570845305499e-16)\n",
            "self_concept read (0.058959225643501326, 0.14917728669821054)\n",
            "self_concept write (0.0009876523305436765, 0.9807393426267061)\n",
            "self_concept math (0.05295277040718571, 0.195224790906198)\n",
            "self_concept science (0.07254548904852522, 0.07579411550378315)\n",
            "motivation read (0.22080414432688594, 4.6319977393767886e-08)\n",
            "motivation write (0.24538948706687314, 1.1176188340096665e-09)\n",
            "motivation math (0.20002230854047498, 7.839987024703352e-07)\n",
            "motivation science (0.12494683254038573, 0.0021679726701835317)\n",
            "locus_of_control read (0.2549891700025268, 1.8707311013229983e-19)\n",
            "locus_of_control write (0.2324269431102833, 1.921320449347359e-16)\n",
            "locus_of_control math (0.22286026125211567, 6.952487589453992e-16)\n",
            "locus_of_control science (0.22386883601423635, 2.2543001215520317e-15)\n",
            "self_concept read (0.042930650362777545, 0.1379875181592871)\n",
            "self_concept write (0.0008338420817723117, 0.9770031011184159)\n",
            "self_concept math (0.03675661445701106, 0.19353409316058012)\n",
            "self_concept science (0.05185415907506973, 0.07294209790425857)\n",
            "motivation read (0.17125866595933992, 6.547083123687681e-08)\n",
            "motivation write (0.18978983397873647, 2.084379717223148e-09)\n",
            "motivation math (0.15164938685182405, 9.663004696291994e-07)\n",
            "motivation science (0.09661858988866079, 0.00228136842294022)\n"
          ]
        }
      ],
      "source": [
        "for i in range(3):\n",
        "    for j in range(3,7):\n",
        "        print(data.columns[i], data.columns[j], st.pearsonr(data.loc[:, data.columns[i]], data.loc[:, data.columns[j]]))\n",
        "\n",
        "for i in range(3):\n",
        "    for j in range(3,7):\n",
        "        print(data.columns[i], data.columns[j], tuple(st.spearmanr(data.loc[:, data.columns[i]], data.loc[:, data.columns[j]])))\n",
        "        \n",
        "\n",
        "for i in range(3):\n",
        "    for j in range(3,7):\n",
        "        print(data.columns[i], data.columns[j], tuple(st.kendalltau(data.loc[:, data.columns[i]], data.loc[:, data.columns[j]])))\n",
        "        "
      ]
    },
    {
      "cell_type": "markdown",
      "metadata": {
        "id": "I4JR9RojFx3i"
      },
      "source": [
        "## Образование и вера\n",
        "**2008 General Social Survey, National Opinion Research center (Agresti A. Categorical Data Analysis. — Hoboken: John Wiley & Sons, 2013, табл. 3.2)**"
      ]
    },
    {
      "cell_type": "markdown",
      "metadata": {
        "id": "c5oK2__bFx3j"
      },
      "source": [
        "General Social Survey — ежегодный опрос населения США, записывается около 5000 факторов. Из опроса 2008 года выбраны данные о вере и образовании 2000 опрошенных. Есть ли связь между степенью веры и уровнем образования?"
      ]
    },
    {
      "cell_type": "code",
      "execution_count": 30,
      "metadata": {
        "id": "tOvGOi9XFx3n"
      },
      "outputs": [],
      "source": [
        "data= pd.read_csv('https://raw.githubusercontent.com/Intelligent-Systems-Phystech/psad/master/seminars/sem5/data/fe.txt', delimiter='\\t')"
      ]
    },
    {
      "cell_type": "code",
      "execution_count": 31,
      "metadata": {
        "id": "BjOJY-W4Fx3o",
        "outputId": "b6abf741-99eb-41ea-f9c3-b8dadd0a3498",
        "colab": {
          "base_uri": "https://localhost:8080/",
          "height": 142
        }
      },
      "outputs": [
        {
          "output_type": "execute_result",
          "data": {
            "text/html": [
              "\n",
              "  <div id=\"df-38f5964e-1b05-4d40-b2ac-43680fb444dd\">\n",
              "    <div class=\"colab-df-container\">\n",
              "      <div>\n",
              "<style scoped>\n",
              "    .dataframe tbody tr th:only-of-type {\n",
              "        vertical-align: middle;\n",
              "    }\n",
              "\n",
              "    .dataframe tbody tr th {\n",
              "        vertical-align: top;\n",
              "    }\n",
              "\n",
              "    .dataframe thead th {\n",
              "        text-align: right;\n",
              "    }\n",
              "</style>\n",
              "<table border=\"1\" class=\"dataframe\">\n",
              "  <thead>\n",
              "    <tr style=\"text-align: right;\">\n",
              "      <th></th>\n",
              "      <th>Highest degree</th>\n",
              "      <th>don’t believe</th>\n",
              "      <th>no way to find out</th>\n",
              "      <th>some higher power</th>\n",
              "      <th>believe sometimes</th>\n",
              "      <th>believe but doubts</th>\n",
              "      <th>know God exists</th>\n",
              "    </tr>\n",
              "  </thead>\n",
              "  <tbody>\n",
              "    <tr>\n",
              "      <th>0</th>\n",
              "      <td>Less than high school</td>\n",
              "      <td>9</td>\n",
              "      <td>8</td>\n",
              "      <td>27</td>\n",
              "      <td>8</td>\n",
              "      <td>47</td>\n",
              "      <td>236</td>\n",
              "    </tr>\n",
              "    <tr>\n",
              "      <th>1</th>\n",
              "      <td>High school or junior college</td>\n",
              "      <td>23</td>\n",
              "      <td>39</td>\n",
              "      <td>88</td>\n",
              "      <td>49</td>\n",
              "      <td>179</td>\n",
              "      <td>706</td>\n",
              "    </tr>\n",
              "    <tr>\n",
              "      <th>2</th>\n",
              "      <td>Bachelor or graduate</td>\n",
              "      <td>28</td>\n",
              "      <td>48</td>\n",
              "      <td>89</td>\n",
              "      <td>19</td>\n",
              "      <td>104</td>\n",
              "      <td>293</td>\n",
              "    </tr>\n",
              "  </tbody>\n",
              "</table>\n",
              "</div>\n",
              "      <button class=\"colab-df-convert\" onclick=\"convertToInteractive('df-38f5964e-1b05-4d40-b2ac-43680fb444dd')\"\n",
              "              title=\"Convert this dataframe to an interactive table.\"\n",
              "              style=\"display:none;\">\n",
              "        \n",
              "  <svg xmlns=\"http://www.w3.org/2000/svg\" height=\"24px\"viewBox=\"0 0 24 24\"\n",
              "       width=\"24px\">\n",
              "    <path d=\"M0 0h24v24H0V0z\" fill=\"none\"/>\n",
              "    <path d=\"M18.56 5.44l.94 2.06.94-2.06 2.06-.94-2.06-.94-.94-2.06-.94 2.06-2.06.94zm-11 1L8.5 8.5l.94-2.06 2.06-.94-2.06-.94L8.5 2.5l-.94 2.06-2.06.94zm10 10l.94 2.06.94-2.06 2.06-.94-2.06-.94-.94-2.06-.94 2.06-2.06.94z\"/><path d=\"M17.41 7.96l-1.37-1.37c-.4-.4-.92-.59-1.43-.59-.52 0-1.04.2-1.43.59L10.3 9.45l-7.72 7.72c-.78.78-.78 2.05 0 2.83L4 21.41c.39.39.9.59 1.41.59.51 0 1.02-.2 1.41-.59l7.78-7.78 2.81-2.81c.8-.78.8-2.07 0-2.86zM5.41 20L4 18.59l7.72-7.72 1.47 1.35L5.41 20z\"/>\n",
              "  </svg>\n",
              "      </button>\n",
              "      \n",
              "  <style>\n",
              "    .colab-df-container {\n",
              "      display:flex;\n",
              "      flex-wrap:wrap;\n",
              "      gap: 12px;\n",
              "    }\n",
              "\n",
              "    .colab-df-convert {\n",
              "      background-color: #E8F0FE;\n",
              "      border: none;\n",
              "      border-radius: 50%;\n",
              "      cursor: pointer;\n",
              "      display: none;\n",
              "      fill: #1967D2;\n",
              "      height: 32px;\n",
              "      padding: 0 0 0 0;\n",
              "      width: 32px;\n",
              "    }\n",
              "\n",
              "    .colab-df-convert:hover {\n",
              "      background-color: #E2EBFA;\n",
              "      box-shadow: 0px 1px 2px rgba(60, 64, 67, 0.3), 0px 1px 3px 1px rgba(60, 64, 67, 0.15);\n",
              "      fill: #174EA6;\n",
              "    }\n",
              "\n",
              "    [theme=dark] .colab-df-convert {\n",
              "      background-color: #3B4455;\n",
              "      fill: #D2E3FC;\n",
              "    }\n",
              "\n",
              "    [theme=dark] .colab-df-convert:hover {\n",
              "      background-color: #434B5C;\n",
              "      box-shadow: 0px 1px 3px 1px rgba(0, 0, 0, 0.15);\n",
              "      filter: drop-shadow(0px 1px 2px rgba(0, 0, 0, 0.3));\n",
              "      fill: #FFFFFF;\n",
              "    }\n",
              "  </style>\n",
              "\n",
              "      <script>\n",
              "        const buttonEl =\n",
              "          document.querySelector('#df-38f5964e-1b05-4d40-b2ac-43680fb444dd button.colab-df-convert');\n",
              "        buttonEl.style.display =\n",
              "          google.colab.kernel.accessAllowed ? 'block' : 'none';\n",
              "\n",
              "        async function convertToInteractive(key) {\n",
              "          const element = document.querySelector('#df-38f5964e-1b05-4d40-b2ac-43680fb444dd');\n",
              "          const dataTable =\n",
              "            await google.colab.kernel.invokeFunction('convertToInteractive',\n",
              "                                                     [key], {});\n",
              "          if (!dataTable) return;\n",
              "\n",
              "          const docLinkHtml = 'Like what you see? Visit the ' +\n",
              "            '<a target=\"_blank\" href=https://colab.research.google.com/notebooks/data_table.ipynb>data table notebook</a>'\n",
              "            + ' to learn more about interactive tables.';\n",
              "          element.innerHTML = '';\n",
              "          dataTable['output_type'] = 'display_data';\n",
              "          await google.colab.output.renderOutput(dataTable, element);\n",
              "          const docLink = document.createElement('div');\n",
              "          docLink.innerHTML = docLinkHtml;\n",
              "          element.appendChild(docLink);\n",
              "        }\n",
              "      </script>\n",
              "    </div>\n",
              "  </div>\n",
              "  "
            ],
            "text/plain": [
              "                  Highest degree  ...  know God exists\n",
              "0          Less than high school  ...              236\n",
              "1  High school or junior college  ...              706\n",
              "2           Bachelor or graduate  ...              293\n",
              "\n",
              "[3 rows x 7 columns]"
            ]
          },
          "metadata": {},
          "execution_count": 31
        }
      ],
      "source": [
        "data.head()"
      ]
    },
    {
      "cell_type": "markdown",
      "metadata": {
        "id": "Q_iKNPI-Fx3p"
      },
      "source": [
        "### Pearson $\\chi^2$"
      ]
    },
    {
      "cell_type": "code",
      "execution_count": 32,
      "metadata": {
        "id": "_xd8rEjFFx3p",
        "outputId": "fbf61ec9-e630-4d76-a5ea-e5fa93a56c03",
        "colab": {
          "base_uri": "https://localhost:8080/"
        }
      },
      "outputs": [
        {
          "output_type": "execute_result",
          "data": {
            "text/plain": [
              "array([[  9.,   8.,  27.,   8.,  47., 236.],\n",
              "       [ 23.,  39.,  88.,  49., 179., 706.],\n",
              "       [ 28.,  48.,  89.,  19., 104., 293.]])"
            ]
          },
          "metadata": {},
          "execution_count": 32
        }
      ],
      "source": [
        "values = data.values[:, 1:].astype(np.float)\n",
        "values"
      ]
    },
    {
      "cell_type": "code",
      "execution_count": 33,
      "metadata": {
        "id": "dIy_gtl-Fx3t",
        "outputId": "633374a4-159f-4321-e853-b7c3f3fd2d2b",
        "colab": {
          "base_uri": "https://localhost:8080/"
        }
      },
      "outputs": [
        {
          "output_type": "execute_result",
          "data": {
            "text/plain": [
              "(76.1483261658133,\n",
              " 2.842572791195739e-12,\n",
              " 10,\n",
              " array([[ 10.05  ,  15.9125,  34.17  ,  12.73  ,  55.275 , 206.8625],\n",
              "        [ 32.52  ,  51.49  , 110.568 ,  41.192 , 178.86  , 669.37  ],\n",
              "        [ 17.43  ,  27.5975,  59.262 ,  22.078 ,  95.865 , 358.7675]]))"
            ]
          },
          "metadata": {},
          "execution_count": 33
        }
      ],
      "source": [
        "st.chi2_contingency(values)"
      ]
    },
    {
      "cell_type": "markdown",
      "metadata": {
        "id": "3aRuCiX-Fx3t"
      },
      "source": [
        "### G-test"
      ]
    },
    {
      "cell_type": "code",
      "execution_count": 34,
      "metadata": {
        "id": "f-bFCtiHFx3y",
        "outputId": "ceb0bb47-05b5-4fff-bf76-c49d3754b3c7",
        "colab": {
          "base_uri": "https://localhost:8080/"
        }
      },
      "outputs": [
        {
          "output_type": "execute_result",
          "data": {
            "text/plain": [
              "(73.18790888970611,\n",
              " 1.0705703476205307e-11,\n",
              " 10,\n",
              " array([[ 10.05  ,  15.9125,  34.17  ,  12.73  ,  55.275 , 206.8625],\n",
              "        [ 32.52  ,  51.49  , 110.568 ,  41.192 , 178.86  , 669.37  ],\n",
              "        [ 17.43  ,  27.5975,  59.262 ,  22.078 ,  95.865 , 358.7675]]))"
            ]
          },
          "metadata": {},
          "execution_count": 34
        }
      ],
      "source": [
        "st.chi2_contingency(values, lambda_ = \"log-likelihood\")"
      ]
    },
    {
      "cell_type": "markdown",
      "metadata": {
        "id": "tXlZMQc4Fx3z"
      },
      "source": [
        "### Коэффициент V Крамера"
      ]
    },
    {
      "cell_type": "code",
      "execution_count": 35,
      "metadata": {
        "id": "N3EuXnZYFx31"
      },
      "outputs": [],
      "source": [
        "def cramers_corrected_stat(confusion_matrix):\n",
        "    \"\"\" calculate Cramers V statistic for categorial-categorial association.\n",
        "        uses correction from Bergsma and Wicher, \n",
        "        Journal of the Korean Statistical Society 42 (2013): 323-328\n",
        "    \"\"\"\n",
        "    chi2 = st.chi2_contingency(confusion_matrix)[0]\n",
        "    n = confusion_matrix.sum()\n",
        "    r,k = confusion_matrix.shape\n",
        "    return np.sqrt(chi2/(n*min(r, k,)-1))"
      ]
    },
    {
      "cell_type": "code",
      "execution_count": 36,
      "metadata": {
        "id": "3VcGdZpXFx31",
        "outputId": "5ecf6ea1-0560-4a48-8805-91cdcde331c4",
        "colab": {
          "base_uri": "https://localhost:8080/"
        }
      },
      "outputs": [
        {
          "output_type": "execute_result",
          "data": {
            "text/plain": [
              "0.11266544846660805"
            ]
          },
          "metadata": {},
          "execution_count": 36
        }
      ],
      "source": [
        "stat = cramers_corrected_stat(values)\n",
        "stat"
      ]
    },
    {
      "cell_type": "markdown",
      "metadata": {
        "id": "BqhPUExwFx32"
      },
      "source": [
        "### Корреляция между порядковыми переенными"
      ]
    },
    {
      "cell_type": "code",
      "execution_count": 37,
      "metadata": {
        "id": "DerXwfXaFx32",
        "outputId": "023dc3a3-2eb7-4334-a494-f4807449822d",
        "colab": {
          "base_uri": "https://localhost:8080/"
        }
      },
      "outputs": [
        {
          "output_type": "stream",
          "name": "stdout",
          "text": [
            "-0.21698\n"
          ]
        }
      ],
      "source": [
        "n = 0\n",
        "pc = 0\n",
        "pd = 0\n",
        "pt = 0\n",
        "for i in range(3):\n",
        "    for j in range(6):\n",
        "        for k in range(3):\n",
        "            for z in range(6):\n",
        "                current = values[i, j]*values[k, z]\n",
        "                n+=current\n",
        "                if i==k or j == z:\n",
        "                    pt += current\n",
        "                elif i>k and j>z:\n",
        "                    pc += current\n",
        "                else:\n",
        "                    pd += current\n",
        "gamma = (pc-pd)/(pc+pd+pt)\n",
        "print(gamma)"
      ]
    },
    {
      "cell_type": "markdown",
      "metadata": {
        "id": "hmwrfqLtFx34"
      },
      "source": [
        "### Встречаемость через длину"
      ]
    },
    {
      "cell_type": "code",
      "execution_count": 38,
      "metadata": {
        "id": "u0U5FmDLFx36",
        "outputId": "eed4cb5d-c596-43fc-d264-7503a4134b2e",
        "colab": {
          "base_uri": "https://localhost:8080/"
        }
      },
      "outputs": [
        {
          "output_type": "execute_result",
          "data": {
            "text/plain": [
              "(2000, 2)"
            ]
          },
          "metadata": {},
          "execution_count": 38
        }
      ],
      "source": [
        "new_data = []\n",
        "for i in range(values.shape[0]):\n",
        "    for j in range(values.shape[1]):\n",
        "        new_data.extend([[i,j]]*int(values[i,j]))\n",
        "new_data = np.array(new_data)\n",
        "new_data.shape"
      ]
    },
    {
      "cell_type": "code",
      "execution_count": 39,
      "metadata": {
        "id": "HxXtt5xmFx37",
        "outputId": "75b65067-c701-4f16-e516-5a805e2dc460",
        "colab": {
          "base_uri": "https://localhost:8080/"
        }
      },
      "outputs": [
        {
          "output_type": "execute_result",
          "data": {
            "text/plain": [
              "-0.16203759162368098"
            ]
          },
          "metadata": {},
          "execution_count": 39
        }
      ],
      "source": [
        "st.pearsonr(new_data[:,0], new_data[:, 1])[0]"
      ]
    },
    {
      "cell_type": "code",
      "execution_count": 40,
      "metadata": {
        "id": "dkwOsI7lFx39",
        "outputId": "343fae3c-23da-41ac-c914-7ee20acd4a4f",
        "colab": {
          "base_uri": "https://localhost:8080/"
        }
      },
      "outputs": [
        {
          "output_type": "execute_result",
          "data": {
            "text/plain": [
              "-0.1475371344671059"
            ]
          },
          "metadata": {},
          "execution_count": 40
        }
      ],
      "source": [
        "st.kendalltau(new_data[:,0], new_data[:,1])[0]"
      ]
    },
    {
      "cell_type": "code",
      "execution_count": 41,
      "metadata": {
        "id": "ni-bpujAFx3_",
        "outputId": "4f5532f5-80a3-4da5-b89c-3d50deae9e55",
        "colab": {
          "base_uri": "https://localhost:8080/"
        }
      },
      "outputs": [
        {
          "output_type": "execute_result",
          "data": {
            "text/plain": [
              "-0.16436204271249027"
            ]
          },
          "metadata": {},
          "execution_count": 41
        }
      ],
      "source": [
        "st.spearmanr(new_data[:,0], new_data[:,1])[0]"
      ]
    },
    {
      "cell_type": "code",
      "execution_count": 42,
      "metadata": {
        "id": "-2nt31qCFx4B",
        "outputId": "8a163a06-509f-4699-93ce-a600cd29b3f9",
        "colab": {
          "base_uri": "https://localhost:8080/"
        }
      },
      "outputs": [
        {
          "output_type": "execute_result",
          "data": {
            "text/plain": [
              "array([['Less than high school', 9, 8, 27, 8, 47, 236],\n",
              "       ['High school or junior college', 23, 39, 88, 49, 179, 706],\n",
              "       ['Bachelor or graduate', 28, 48, 89, 19, 104, 293]], dtype=object)"
            ]
          },
          "metadata": {},
          "execution_count": 42
        }
      ],
      "source": [
        "data.values"
      ]
    },
    {
      "cell_type": "markdown",
      "metadata": {
        "id": "ao7dfxxMFx4B"
      },
      "source": [
        "### Через statmodels"
      ]
    },
    {
      "cell_type": "code",
      "execution_count": 43,
      "metadata": {
        "id": "0V8Eb0f9Fx4B"
      },
      "outputs": [],
      "source": [
        "table = sm.stats.Table(data.values[:, 1:])"
      ]
    },
    {
      "cell_type": "code",
      "execution_count": 44,
      "metadata": {
        "id": "F66fgdPXFx4D",
        "outputId": "7a56b561-5e5d-402f-d1f2-0dbe3832d94d",
        "colab": {
          "base_uri": "https://localhost:8080/"
        }
      },
      "outputs": [
        {
          "output_type": "execute_result",
          "data": {
            "text/plain": [
              "array([[9, 8, 27, 8, 47, 236],\n",
              "       [23, 39, 88, 49, 179, 706],\n",
              "       [28, 48, 89, 19, 104, 293]], dtype=object)"
            ]
          },
          "metadata": {},
          "execution_count": 44
        }
      ],
      "source": [
        "table.table_orig"
      ]
    },
    {
      "cell_type": "code",
      "execution_count": 45,
      "metadata": {
        "id": "BsQeqmJnFx4D"
      },
      "outputs": [],
      "source": [
        "chi2_test = table.test_nominal_association()"
      ]
    },
    {
      "cell_type": "code",
      "execution_count": 46,
      "metadata": {
        "id": "6-qzgTwkFx4E",
        "outputId": "1dc8cd1d-4cd2-44f4-e300-89303d557b31",
        "colab": {
          "base_uri": "https://localhost:8080/"
        }
      },
      "outputs": [
        {
          "output_type": "execute_result",
          "data": {
            "text/plain": [
              "76.14832616581332"
            ]
          },
          "metadata": {},
          "execution_count": 46
        }
      ],
      "source": [
        "chi2_test.statistic"
      ]
    },
    {
      "cell_type": "code",
      "execution_count": 47,
      "metadata": {
        "id": "FaBuMUeBFx4G",
        "outputId": "27d7030d-a4d9-4e63-d9bf-b7f8612afdf1",
        "colab": {
          "base_uri": "https://localhost:8080/"
        }
      },
      "outputs": [
        {
          "output_type": "execute_result",
          "data": {
            "text/plain": [
              "2.842615032250251e-12"
            ]
          },
          "metadata": {},
          "execution_count": 47
        }
      ],
      "source": [
        "chi2_test.pvalue"
      ]
    },
    {
      "cell_type": "markdown",
      "metadata": {
        "id": "kRGUQR4uFx4I"
      },
      "source": [
        "### Корреляция Мэтьюся\n",
        "$$MCC = \\frac{ad-bc}{\\sqrt{(a+b)(a+c)(b+d)(c+d)}}$$"
      ]
    },
    {
      "cell_type": "code",
      "execution_count": 48,
      "metadata": {
        "id": "edDUigHyFx4K",
        "outputId": "524e4e3b-0fe4-4187-d233-2138c6ab9b9c",
        "colab": {
          "base_uri": "https://localhost:8080/"
        }
      },
      "outputs": [
        {
          "output_type": "stream",
          "name": "stdout",
          "text": [
            "##############################\n",
            "High school or junior college\n",
            "no way to find out: -0.0032878972142129214\n",
            "some higher power: -0.026166704823330604\n",
            "believe sometimes: -0.04332230388469834\n",
            "believe but doubts: -0.05472333256702768\n",
            "know God exists: -0.07392920094188866\n",
            "##############################\n",
            "Bachelor or graduate\n",
            "no way to find out: -0.014052274802607664\n",
            "some higher power: -0.042208233986054826\n",
            "believe sometimes: -0.08854271827202974\n",
            "believe but doubts: -0.08727154689593274\n",
            "know God exists: -0.11753738675740537\n"
          ]
        }
      ],
      "source": [
        "for i in range(1, 3):\n",
        "    print('#'*30)\n",
        "    print (data.values[i, 0])\n",
        "    for j in range(1, 6):\n",
        "        a = values[i:, j:].sum()\n",
        "        b = values[i:, :j].sum()\n",
        "        c = values[:i, j:].sum()\n",
        "        d = values[:i, :j].sum()\n",
        "        C = (a*d - b*c)/((a+b)*(a+c)*(b+c)*(c+d))**0.5\n",
        "\n",
        "        \n",
        "        print('{}: {}'.format(data.columns[j+1], C))\n",
        "\n"
      ]
    },
    {
      "cell_type": "markdown",
      "metadata": {
        "id": "0ty6fSAyFx4L"
      },
      "source": [
        "## IE vs Murders Rate\n",
        "\n",
        "**Disclaimer: пример выдуман, данных нет. Для наглядности.**"
      ]
    },
    {
      "cell_type": "markdown",
      "metadata": {
        "id": "qGgcLnQ3Fx4N"
      },
      "source": [
        "### Вариант 1\n",
        "Пусть число убийств и процент пользователей Internet Explorer линейно зависят от года:"
      ]
    },
    {
      "cell_type": "code",
      "execution_count": 49,
      "metadata": {
        "id": "MhwIEx80Fx4O",
        "outputId": "28c8afaf-0895-4270-dd22-ebb172c015ac",
        "colab": {
          "base_uri": "https://localhost:8080/"
        }
      },
      "outputs": [
        {
          "output_type": "execute_result",
          "data": {
            "text/plain": [
              "array([0.85488135, 0.79651894, 0.71027634, 0.62948832, 0.54236548,\n",
              "       0.48958941])"
            ]
          },
          "metadata": {},
          "execution_count": 49
        }
      ],
      "source": [
        "rs = np.random.RandomState(0)\n",
        "years = np.arange(2006, 2012)\n",
        "ie_users = -0.075 *  years + 151.25 + rs.uniform(size=years.shape[0])*0.1\n",
        "ie_users\n"
      ]
    },
    {
      "cell_type": "code",
      "execution_count": 50,
      "metadata": {
        "id": "sXHUyAMAFx4O",
        "outputId": "3d4a0c2c-ff48-4014-8b16-5a955a626aea",
        "colab": {
          "base_uri": "https://localhost:8080/"
        }
      },
      "outputs": [
        {
          "output_type": "execute_result",
          "data": {
            "text/plain": [
              "array([0.60488135, 0.54651894, 0.46027634, 0.37948832, 0.29236548,\n",
              "       0.23958941])"
            ]
          },
          "metadata": {},
          "execution_count": 50
        }
      ],
      "source": [
        "rs = np.random.RandomState(0)\n",
        "murder_num = -0.075 *  years + 151. + rs.uniform(size=years.shape[0])*0.1\n",
        "murder_num"
      ]
    },
    {
      "cell_type": "code",
      "execution_count": 51,
      "metadata": {
        "id": "Qp08eAGSFx4Q",
        "outputId": "6d9dc644-cbb7-45dd-ed75-9dcfeec1aac5",
        "colab": {
          "base_uri": "https://localhost:8080/",
          "height": 265
        }
      },
      "outputs": [
        {
          "output_type": "display_data",
          "data": {
            "image/png": "[encoded data removed]",
            "text/plain": [
              "<Figure size 432x288 with 1 Axes>"
            ]
          },
          "metadata": {
            "needs_background": "light"
          }
        }
      ],
      "source": [
        "plt.bar(years, ie_users, color='g')\n",
        "plt.plot(years, murder_num, c='b')\n",
        "\n",
        "plt.show()"
      ]
    },
    {
      "cell_type": "code",
      "execution_count": 52,
      "metadata": {
        "id": "lT024hZeFx4Q",
        "outputId": "f1249c86-b7bf-4022-b853-fa490ef04118",
        "colab": {
          "base_uri": "https://localhost:8080/"
        }
      },
      "outputs": [
        {
          "output_type": "execute_result",
          "data": {
            "text/plain": [
              "(0.9999999999999999, -0.9977033457324236, -0.9977033457324236)"
            ]
          },
          "metadata": {},
          "execution_count": 52
        }
      ],
      "source": [
        "r12 = st.pearsonr(ie_users, murder_num)[0]\n",
        "r13 = st.pearsonr(ie_users, years)[0]\n",
        "r23 = st.pearsonr(murder_num, years)[0]\n",
        "\n",
        "r12, r13, r23"
      ]
    },
    {
      "cell_type": "markdown",
      "metadata": {
        "id": "Tj1uJRLPFx4R"
      },
      "source": [
        "#### Условная корреляция\n",
        "$$r_{1,2|3} = \\frac{r_{1, 2} - r_{1, 3}*r_{2, 3}}{\\sqrt[]{(1-r_{1, 3}^2)(1-r_{2, 3}^2)}}$$\n"
      ]
    },
    {
      "cell_type": "code",
      "execution_count": 53,
      "metadata": {
        "id": "AUZQu-q5Fx4R",
        "outputId": "16d3dcd2-93af-41e1-d174-05282268bd13",
        "colab": {
          "base_uri": "https://localhost:8080/"
        }
      },
      "outputs": [
        {
          "output_type": "execute_result",
          "data": {
            "text/plain": [
              "0.9999999999999758"
            ]
          },
          "metadata": {},
          "execution_count": 53
        }
      ],
      "source": [
        "(r12-r13*r23)/np.sqrt((1-r13**2)*(1-r23**2))"
      ]
    },
    {
      "cell_type": "markdown",
      "metadata": {
        "id": "c6Do2SrpFx4S"
      },
      "source": [
        "### Вариант 2\n",
        "Оба показателя линейно зависят от числа компьютеров в мире.\n",
        "Число компьютеров зависит от года."
      ]
    },
    {
      "cell_type": "code",
      "execution_count": 54,
      "metadata": {
        "id": "dK4AUwmIFx4S",
        "outputId": "c714a210-9154-4c78-b038-57c55d87e944",
        "colab": {
          "base_uri": "https://localhost:8080/",
          "height": 276
        }
      },
      "outputs": [
        {
          "output_type": "display_data",
          "data": {
            "image/png": "[encoded data removed]",
            "text/plain": [
              "<Figure size 432x288 with 1 Axes>"
            ]
          },
          "metadata": {
            "needs_background": "light"
          }
        }
      ],
      "source": [
        "rs = np.random.RandomState(0)\n",
        "comp_num = 10**9+np.exp(years-2006)*0.5*10**7 + rs.randint(low=0, high=10**8, size=years.shape[0])\n",
        "\n",
        "plt.plot(years, comp_num)\n",
        "plt.show()"
      ]
    },
    {
      "cell_type": "code",
      "execution_count": 55,
      "metadata": {
        "id": "rfuGQH8KFx4g",
        "outputId": "f5505f50-f7ad-4135-963b-a900a1d4e606",
        "colab": {
          "base_uri": "https://localhost:8080/"
        }
      },
      "outputs": [
        {
          "output_type": "execute_result",
          "data": {
            "text/plain": [
              "array([0.80662055, 0.86203503, 0.81488189, 0.75764987, 0.6434386 ,\n",
              "       0.41032603])"
            ]
          },
          "metadata": {},
          "execution_count": 55
        }
      ],
      "source": [
        "rs = np.random.RandomState(0)\n",
        "ie_users =   -0.6/10**9 *  comp_num+1.4 + rs.uniform(size=years.shape[0])*0.1\n",
        "ie_users \n"
      ]
    },
    {
      "cell_type": "code",
      "execution_count": 56,
      "metadata": {
        "id": "DtT4FowSFx4g",
        "outputId": "a24dddc3-7d88-4325-dc55-4c0283647316",
        "colab": {
          "base_uri": "https://localhost:8080/"
        }
      },
      "outputs": [
        {
          "output_type": "execute_result",
          "data": {
            "text/plain": [
              "array([0.55662055, 0.61203503, 0.56488189, 0.50764987, 0.3934386 ,\n",
              "       0.16032603])"
            ]
          },
          "metadata": {},
          "execution_count": 56
        }
      ],
      "source": [
        "rs = np.random.RandomState(0)\n",
        "murder_num =  -0.6/10**9 *  comp_num+1.15 + rs.uniform(size=years.shape[0])*0.1\n",
        "murder_num"
      ]
    },
    {
      "cell_type": "code",
      "execution_count": 57,
      "metadata": {
        "id": "6DbMwnHpFx4h",
        "outputId": "e195da94-3d4e-4b1a-a658-69dd80854fb6",
        "colab": {
          "base_uri": "https://localhost:8080/",
          "height": 265
        }
      },
      "outputs": [
        {
          "output_type": "display_data",
          "data": {
            "image/png": "[encoded data removed]",
            "text/plain": [
              "<Figure size 432x288 with 1 Axes>"
            ]
          },
          "metadata": {
            "needs_background": "light"
          }
        }
      ],
      "source": [
        "plt.bar(years, ie_users, color='g')\n",
        "plt.plot(years, murder_num, c='b')\n",
        "\n",
        "plt.show()"
      ]
    },
    {
      "cell_type": "code",
      "execution_count": 58,
      "metadata": {
        "id": "nWbgC5MjFx4h",
        "outputId": "2568af93-3347-4747-88a5-48b6396ec7a7",
        "colab": {
          "base_uri": "https://localhost:8080/"
        }
      },
      "outputs": [
        {
          "output_type": "execute_result",
          "data": {
            "text/plain": [
              "(-0.861487246095062, -0.9982211910256553)"
            ]
          },
          "metadata": {},
          "execution_count": 58
        }
      ],
      "source": [
        "st.pearsonr(years, ie_users)[0], st.pearsonr(comp_num, ie_users)[0], "
      ]
    },
    {
      "cell_type": "code",
      "execution_count": 59,
      "metadata": {
        "id": "DR2loPfSFx4h",
        "outputId": "9f897a03-ba8d-452b-cb03-28f78742dccc",
        "colab": {
          "base_uri": "https://localhost:8080/"
        }
      },
      "outputs": [
        {
          "output_type": "execute_result",
          "data": {
            "text/plain": [
              "(-0.8285714285714287, -1.0)"
            ]
          },
          "metadata": {},
          "execution_count": 59
        }
      ],
      "source": [
        "st.spearmanr(years, ie_users)[0], st.spearmanr(comp_num, ie_users)[0]"
      ]
    },
    {
      "cell_type": "code",
      "execution_count": 60,
      "metadata": {
        "id": "Y9aV0w41Fx4i",
        "outputId": "3f020095-6dce-4334-fb37-0dc01cc4a2a9",
        "colab": {
          "base_uri": "https://localhost:8080/"
        }
      },
      "outputs": [
        {
          "output_type": "execute_result",
          "data": {
            "text/plain": [
              "(1.0, -0.9982211910256553, -0.9982211910256553)"
            ]
          },
          "metadata": {},
          "execution_count": 60
        }
      ],
      "source": [
        "r12 = st.pearsonr(ie_users, murder_num)[0]\n",
        "r13 = st.pearsonr(murder_num, comp_num)[0]\n",
        "r23 = st.pearsonr(ie_users, comp_num)[0]\n",
        "\n",
        "r12, r13, r23"
      ]
    },
    {
      "cell_type": "markdown",
      "metadata": {
        "id": "9IcIXxZPFx4i"
      },
      "source": [
        "#### Условная корреляция\n",
        "$$r_{1,2|3} = \\frac{r_{1, 2} - r_{1, 3}*r_{2, 3}}{\\sqrt[]{(1-r_{1, 3}^2)(1-r_{2, 3}^2)}}$$"
      ]
    },
    {
      "cell_type": "code",
      "source": [
        "(r12-r13*r23)/np.sqrt((1-r13**2)*(1-r23**2))"
      ],
      "metadata": {
        "id": "cHjMcKQvURRC",
        "outputId": "0e22a1e2-9c56-4d2f-d8ab-524f7af16f68",
        "colab": {
          "base_uri": "https://localhost:8080/"
        }
      },
      "execution_count": 61,
      "outputs": [
        {
          "output_type": "execute_result",
          "data": {
            "text/plain": [
              "1.0"
            ]
          },
          "metadata": {},
          "execution_count": 61
        }
      ]
    },
    {
      "cell_type": "markdown",
      "metadata": {
        "id": "Nl101VIaFx4i"
      },
      "source": [
        "### Вариант 3\n",
        "Пусть процент убийств снижается с процентом взрослого населения в стране.\n",
        "Доля IE возрастает.\n"
      ]
    },
    {
      "cell_type": "code",
      "execution_count": 62,
      "metadata": {
        "id": "45WZgnNkFx4i",
        "outputId": "146e0388-5dc7-4677-bec9-c4f399d51c9a",
        "colab": {
          "base_uri": "https://localhost:8080/"
        }
      },
      "outputs": [
        {
          "output_type": "execute_result",
          "data": {
            "text/plain": [
              "array([0.50662055, 0.63703503, 0.66488189, 0.60764987, 0.5184386 ,\n",
              "       0.28532603])"
            ]
          },
          "metadata": {},
          "execution_count": 62
        }
      ],
      "source": [
        "rs = np.random.RandomState(0)\n",
        "adult = np.array([32,35,  38, 38, 39, 39])\n",
        "murder_num = -0.6/10**9 *  comp_num + 0.3 + rs.uniform(size=years.shape[0])*0.1 + adult/40\n",
        "murder_num\n"
      ]
    },
    {
      "cell_type": "code",
      "execution_count": 63,
      "metadata": {
        "id": "EYoxENMsFx4i",
        "outputId": "3bb6668e-0fe4-43ea-9ea6-f1f48f2db601",
        "colab": {
          "base_uri": "https://localhost:8080/"
        }
      },
      "outputs": [
        {
          "output_type": "execute_result",
          "data": {
            "text/plain": [
              "array([0.80662055, 0.78703503, 0.66488189, 0.60764987, 0.4684386 ,\n",
              "       0.23532603])"
            ]
          },
          "metadata": {},
          "execution_count": 63
        }
      ],
      "source": [
        "rs = np.random.RandomState(0)\n",
        "ie_users =  -0.6/10**9 *  comp_num+2.2 + rs.uniform(size=years.shape[0])*0.1 - adult/40\n",
        "ie_users \n"
      ]
    },
    {
      "cell_type": "code",
      "execution_count": 64,
      "metadata": {
        "id": "naW4Ry7sFx4j",
        "outputId": "0eeba633-7724-4c05-db3f-3bcbe0c603ee",
        "colab": {
          "base_uri": "https://localhost:8080/",
          "height": 265
        }
      },
      "outputs": [
        {
          "output_type": "display_data",
          "data": {
            "image/png": "[encoded data removed]",
            "text/plain": [
              "<Figure size 432x288 with 1 Axes>"
            ]
          },
          "metadata": {
            "needs_background": "light"
          }
        }
      ],
      "source": [
        "plt.bar(years, ie_users, color='g')\n",
        "plt.plot(years, murder_num, c='b')\n",
        "\n",
        "plt.show()"
      ]
    },
    {
      "cell_type": "code",
      "execution_count": 65,
      "metadata": {
        "id": "NT6XwL11Fx4k",
        "outputId": "579ad509-c3ff-41be-94e7-b0c0591f5f8c",
        "colab": {
          "base_uri": "https://localhost:8080/"
        }
      },
      "outputs": [
        {
          "output_type": "execute_result",
          "data": {
            "text/plain": [
              "(0.7738271741358052, -0.916089942643887, -0.9601569943820956)"
            ]
          },
          "metadata": {},
          "execution_count": 65
        }
      ],
      "source": [
        "r12 = st.pearsonr(ie_users, murder_num)[0]\n",
        "r13 = st.pearsonr(murder_num, comp_num)[0]\n",
        "r23 = st.pearsonr(ie_users, comp_num)[0]\n",
        "\n",
        "r12, r13, r23"
      ]
    },
    {
      "cell_type": "markdown",
      "metadata": {
        "id": "irvFZCeYFx4l"
      },
      "source": [
        "#### Условная корреляция\n",
        "$$r_{1,2|3} = \\frac{r_{1, 2} - r_{1, 3}*r_{2, 3}}{\\sqrt[]{(1-r_{1, 3}^2)(1-r_{2, 3}^2)}}$$"
      ]
    },
    {
      "cell_type": "code",
      "execution_count": 66,
      "metadata": {
        "id": "C3CFIniYFx4l",
        "outputId": "e4cb76f8-f662-4a13-9358-64d6af016ad0",
        "colab": {
          "base_uri": "https://localhost:8080/"
        }
      },
      "outputs": [
        {
          "output_type": "execute_result",
          "data": {
            "text/plain": [
              "-0.9438376514862333"
            ]
          },
          "metadata": {},
          "execution_count": 66
        }
      ],
      "source": [
        "(r12-r13*r23)/np.sqrt((1-r13**2)*(1-r23**2))"
      ]
    },
    {
      "cell_type": "code",
      "execution_count": 67,
      "metadata": {
        "id": "3-cPtMKNFx4l",
        "outputId": "04a4c6fd-c734-41b2-a1a5-9f3c0c6576e3",
        "colab": {
          "base_uri": "https://localhost:8080/"
        }
      },
      "outputs": [
        {
          "output_type": "execute_result",
          "data": {
            "text/plain": [
              "(-0.2022666855201769, -0.7768242481877352)"
            ]
          },
          "metadata": {},
          "execution_count": 67
        }
      ],
      "source": [
        "r14 = st.pearsonr(murder_num, adult)[0]\n",
        "r24 = st.pearsonr(ie_users, adult)[0]\n",
        "\n",
        "r14, r24"
      ]
    },
    {
      "cell_type": "markdown",
      "source": [
        "#### Условная корреляция\n",
        "$$r_{1,2|4} = \\frac{r_{1, 2} - r_{1, 4}*r_{2, 3}}{\\sqrt[]{(1-r_{1, 4}^2)(1-r_{2, 4}^2)}}$$"
      ],
      "metadata": {
        "id": "gdfvL2bgUa0Z"
      }
    },
    {
      "cell_type": "code",
      "execution_count": 68,
      "metadata": {
        "id": "0N0e-TlUFx4m",
        "outputId": "9b0f9b52-15e7-41b7-c009-b41749fcd03a",
        "colab": {
          "base_uri": "https://localhost:8080/"
        }
      },
      "outputs": [
        {
          "output_type": "execute_result",
          "data": {
            "text/plain": [
              "0.9999999999999994"
            ]
          },
          "metadata": {},
          "execution_count": 68
        }
      ],
      "source": [
        "(r12-r14*r24)/np.sqrt((1-r14**2)*(1-r24**2))"
      ]
    },
    {
      "cell_type": "markdown",
      "metadata": {
        "id": "0hyBO0gJFx4o"
      },
      "source": [
        "#### Условная корреляция через матрицу\n",
        "$$r_{i,j}|other= \\frac{r_{i,j}}{r_{ii}, r_{jj}}$$"
      ]
    },
    {
      "cell_type": "markdown",
      "metadata": {
        "id": "4Gdej4ttFx4p"
      },
      "source": [
        "##### Pearson"
      ]
    },
    {
      "cell_type": "code",
      "execution_count": 69,
      "metadata": {
        "id": "NIWfbBWtFx4p",
        "outputId": "1da7af88-39d1-4535-95f4-a9c13a3b8a00",
        "colab": {
          "base_uri": "https://localhost:8080/"
        }
      },
      "outputs": [
        {
          "output_type": "execute_result",
          "data": {
            "text/plain": [
              "array([[ 1.        ,  0.77382717, -0.96015699, -0.77682425],\n",
              "       [ 0.77382717,  1.        , -0.91608994, -0.20226669],\n",
              "       [-0.96015699, -0.91608994,  1.        ,  0.57378435],\n",
              "       [-0.77682425, -0.20226669,  0.57378435,  1.        ]])"
            ]
          },
          "metadata": {},
          "execution_count": 69
        }
      ],
      "source": [
        "matrix = np.zeros((4,4))\n",
        "datasets = [ie_users, murder_num, comp_num, adult]\n",
        "for i in range(4):\n",
        "    for j in range(i,4):\n",
        "        matrix[i,j] = matrix[j,i] = st.pearsonr(datasets[i], datasets[j])[0]\n",
        "matrix"
      ]
    },
    {
      "cell_type": "code",
      "execution_count": 70,
      "metadata": {
        "id": "ZJ1aNXJMFx4q",
        "outputId": "2214d614-6500-4856-ac6f-69be163f30b1",
        "colab": {
          "base_uri": "https://localhost:8080/"
        }
      },
      "outputs": [
        {
          "output_type": "execute_result",
          "data": {
            "text/plain": [
              "array([[ 2.15326055e+16, -1.38456406e+16,  6.35802772e+02,\n",
              "         1.39265383e+16],\n",
              "       [-1.38456406e+16,  8.90285953e+15, -1.64695486e+02,\n",
              "        -8.95487743e+15],\n",
              "       [ 1.83293975e+02,  1.26271352e+02,  2.92666908e+02,\n",
              "         0.00000000e+00],\n",
              "       [ 1.39265383e+16, -8.95487743e+15,  2.92666908e+02,\n",
              "         9.00719925e+15]])"
            ]
          },
          "metadata": {},
          "execution_count": 70
        }
      ],
      "source": [
        "R = np.linalg.inv(matrix)\n",
        "R"
      ]
    },
    {
      "cell_type": "code",
      "execution_count": 71,
      "metadata": {
        "id": "ZJrHqSrDFx4w",
        "outputId": "c8c05888-7fb4-4dae-e703-e3d691a441ae",
        "colab": {
          "base_uri": "https://localhost:8080/"
        }
      },
      "outputs": [
        {
          "output_type": "execute_result",
          "data": {
            "text/plain": [
              "1.0000000000000022"
            ]
          },
          "metadata": {},
          "execution_count": 71
        }
      ],
      "source": [
        "-R[1,0]/np.sqrt(R[0,0]*R[1,1])"
      ]
    },
    {
      "cell_type": "markdown",
      "metadata": {
        "id": "y4EuEpVXFx4w"
      },
      "source": [
        "##### Kendal"
      ]
    },
    {
      "cell_type": "code",
      "execution_count": 72,
      "metadata": {
        "id": "A45D5lW6Fx4x",
        "outputId": "0849c50f-bd46-439b-c8d0-143b887bd0d2",
        "colab": {
          "base_uri": "https://localhost:8080/"
        }
      },
      "outputs": [
        {
          "output_type": "execute_result",
          "data": {
            "text/plain": [
              "array([[ 1.        ,  0.33333333, -0.73333333, -0.93094934],\n",
              "       [ 0.33333333,  1.        , -0.6       , -0.21483446],\n",
              "       [-0.73333333, -0.6       ,  1.        ,  0.64450339],\n",
              "       [-0.93094934, -0.21483446,  0.64450339,  1.        ]])"
            ]
          },
          "metadata": {},
          "execution_count": 72
        }
      ],
      "source": [
        "matrix = np.zeros((4,4))\n",
        "datasets = [ie_users, murder_num, comp_num, adult]\n",
        "for i in range(4):\n",
        "    for j in range(i,4):\n",
        "        matrix[i,j] = matrix[j,i] = st.kendalltau(datasets[i], datasets[j])[0]\n",
        "matrix"
      ]
    },
    {
      "cell_type": "code",
      "execution_count": 73,
      "metadata": {
        "id": "KGfZcLwlFx4x",
        "outputId": "a1dab520-db6e-44b1-e61a-5bb32414be77",
        "colab": {
          "base_uri": "https://localhost:8080/"
        }
      },
      "outputs": [
        {
          "output_type": "execute_result",
          "data": {
            "text/plain": [
              "array([[ 9.84375000e+00, -4.68750000e-01,  1.87500000e+00,\n",
              "         7.85488502e+00],\n",
              "       [-4.68750000e-01,  1.71875000e+00,  1.25000000e+00,\n",
              "        -8.72765003e-01],\n",
              "       [ 1.87500000e+00,  1.25000000e+00,  3.12500000e+00,\n",
              "        -2.81892565e-15],\n",
              "       [ 7.85488502e+00, -8.72765003e-01,  0.00000000e+00,\n",
              "         8.12500000e+00]])"
            ]
          },
          "metadata": {},
          "execution_count": 73
        }
      ],
      "source": [
        "R = np.linalg.inv(matrix)\n",
        "R"
      ]
    },
    {
      "cell_type": "code",
      "execution_count": 74,
      "metadata": {
        "id": "h8vbh23KFx4x",
        "outputId": "e0328c35-0f20-49d6-86ad-6876bd931ddc",
        "colab": {
          "base_uri": "https://localhost:8080/"
        }
      },
      "outputs": [
        {
          "output_type": "execute_result",
          "data": {
            "text/plain": [
              "0.11396057645963856"
            ]
          },
          "metadata": {},
          "execution_count": 74
        }
      ],
      "source": [
        "-R[1,0]/np.sqrt(R[0,0]*R[1,1])"
      ]
    }
  ],
  "metadata": {
    "kernelspec": {
      "display_name": "Python 3",
      "language": "python",
      "name": "python3"
    },
    "language_info": {
      "codemirror_mode": {
        "name": "ipython",
        "version": 3
      },
      "file_extension": ".py",
      "mimetype": "text/x-python",
      "name": "python",
      "nbconvert_exporter": "python",
      "pygments_lexer": "ipython3",
      "version": "3.7.3"
    },
    "colab": {
      "name": "main.ipynb",
      "provenance": []
    }
  },
  "nbformat": 4,
  "nbformat_minor": 0
}