{
  "cells": [
    {
      "cell_type": "markdown",
      "metadata": {
        "id": "w1ROXj9B6-52"
      },
      "source": [
        "# Множественное тестирование гипотез"
      ]
    },
    {
      "cell_type": "code",
      "source": [
        "import warnings\n",
        "warnings.filterwarnings(\"ignore\")\n",
        "\n",
        "try:\n",
        "    import google.colab\n",
        "    IN_COLAB = True\n",
        "except:\n",
        "    IN_COLAB = False\n",
        "\n",
        "if IN_COLAB:\n",
        "    !wget -q -O requirements.txt https://raw.githubusercontent.com/Intelligent-Systems-Phystech/psad/master/seminars/sem4/requirements.txt\n",
        "    !pip install -q -r requirements.txt"
      ],
      "metadata": {
        "id": "0EHoptMo7AM5"
      },
      "execution_count": null,
      "outputs": []
    },
    {
      "cell_type": "markdown",
      "metadata": {
        "id": "6BM0f9v56-56"
      },
      "source": [
        "## Библиотеки"
      ]
    },
    {
      "cell_type": "code",
      "execution_count": null,
      "metadata": {
        "id": "Ed38wxJn6-57"
      },
      "outputs": [],
      "source": [
        "import numpy as np\n",
        "import pandas as pd\n",
        "import matplotlib.pylab as plt\n",
        "\n",
        "import scipy.stats as st\n",
        "import seaborn as sns\n",
        "\n",
        "# критерий стюдента для независимых выборок\n",
        "from  statsmodels.stats.weightstats import ttest_ind\n",
        "\n",
        "# пакет для работы с множественным тестированием\n",
        "from statsmodels.stats.multitest import multipletests\n",
        "\n",
        "# пакет для проверки множественных гипотез\n",
        "from statsmodels.stats.multitest import multipletests"
      ]
    },
    {
      "cell_type": "markdown",
      "metadata": {
        "id": "0S8FwDB46-5-"
      },
      "source": [
        "## Warmup"
      ]
    },
    {
      "cell_type": "markdown",
      "metadata": {
        "id": "7CnVCN4_6-5-"
      },
      "source": [
        "### Модельный эксперимент"
      ]
    },
    {
      "cell_type": "markdown",
      "metadata": {
        "id": "zdwtT8Hr6-5_"
      },
      "source": [
        "#### Постановка\n",
        "**Данные:**\n",
        "\n",
        "$n=20, \\quad m=200, \\quad m_0=150$,\n",
        "\n",
        "$\\mathbf{X}_i \\sim \\mathcal{N}(\\mathbf{0}, \\mathbf{I}), \\quad i=1,\\dots,m_0;$\n",
        "\n",
        "$\\mathbf{X}_i \\sim \\mathcal{N}(\\mathbf{1}, \\mathbf{I}), \\quad i=m_0+1,\\dots,m;$\n",
        "\n",
        "$\\mathbf{X}_i \\in \\mathbb{R}^n.$\n",
        "\n",
        "**Гипотезы:**\n",
        "\n",
        "$H^i_0: \\mathsf{E}\\mathbf{X}_i = 0$;\n",
        "\n",
        "$H^i_1: \\mathsf{E}\\mathbf{X}_i \\neq 0$;\n",
        "\n",
        "\n",
        "**Критерий для проверки:**\n",
        "* одновыборочный t-Критерия Стьюдента."
      ]
    },
    {
      "cell_type": "markdown",
      "metadata": {
        "id": "zGpZTpt16-6A"
      },
      "source": [
        "#### Генерация данных"
      ]
    },
    {
      "cell_type": "code",
      "execution_count": null,
      "metadata": {
        "id": "iK3LM_9i6-6A"
      },
      "outputs": [],
      "source": [
        "rs = np.random.RandomState(42)\n",
        "\n",
        "alpha = 0.05\n",
        "m = 200\n",
        "m0 = 150\n",
        "n = 20\n",
        "\n",
        "X = rs.randn(m,n)\n",
        "X[m0:]+=1"
      ]
    },
    {
      "cell_type": "markdown",
      "metadata": {
        "id": "6SfCjUMj6-6B"
      },
      "source": [
        "#### Гистограммы"
      ]
    },
    {
      "cell_type": "code",
      "execution_count": null,
      "metadata": {
        "id": "khxv9LQX6-6B"
      },
      "outputs": [],
      "source": [
        "_ = plt.hist(X[:m0].flatten(), color='r', density=True)\n",
        "_ = plt.hist(X[m0:].flatten(), color='g', alpha=0.5, density=True)"
      ]
    },
    {
      "cell_type": "markdown",
      "metadata": {
        "id": "6UpmiHS-6-6C"
      },
      "source": [
        "#### Эксперимент\n",
        "\n",
        "В качестве статистики использовать функцию ```st.ttest_1samp``` из пакета ```scipy.stats```."
      ]
    },
    {
      "cell_type": "markdown",
      "metadata": {
        "id": "l81bga5-6-6D"
      },
      "source": [
        "##### Без поправок"
      ]
    },
    {
      "cell_type": "code",
      "execution_count": null,
      "metadata": {
        "id": "qfQDisI96-6D"
      },
      "outputs": [],
      "source": [
        "# zero mean\n",
        "rejected = 0\n",
        "for x in X[:m0]:\n",
        "    if st.ttest_1samp(x, 0, )[1] < 0.05:\n",
        "         rejected += 1\n",
        "\n",
        "print ('True: H0; H1 non-accepted:', m0 - rejected)\n",
        "print ('True: H0; H0 rejected:', rejected)\n",
        "\n",
        "# non-zero mean\n",
        "rejected = 0\n",
        "for x in X[m0:]:\n",
        "    if st.ttest_1samp(x, 0)[1] < 0.05:\n",
        "         rejected += 1\n",
        "\n",
        "print ('False: H1; H1 non-accepted:', m-m0 - rejected)\n",
        "print ('False: H1; H0 rejected:', rejected)"
      ]
    },
    {
      "cell_type": "markdown",
      "metadata": {
        "id": "MDNPoiWg6-6E"
      },
      "source": [
        "##### Бонферони (из пакета)"
      ]
    },
    {
      "cell_type": "code",
      "execution_count": null,
      "metadata": {
        "id": "fTNL6iw86-6F"
      },
      "outputs": [],
      "source": [
        "# zero mean\n",
        "p_values = []\n",
        "for x in X:\n",
        "    ### Ваш код тут ###\n",
        "    p_values.append(st.ttest_1samp(x, 0, )[1])\n",
        "\n",
        "rejections = multipletests(p_values, method='bonferroni')[0]\n",
        "\n",
        "print ('True: H0; H1 non-accepted:', m0 - rejections[:m0].sum())\n",
        "print ('True: H0; H1 rejected:',  rejections[:m0].sum())\n",
        "\n",
        "# non-zero mean\n",
        "rejections = multipletests(p_values, method='bonferroni')[0]\n",
        "\n",
        "print ('True: H1;  H1 non-accepted:', m-m0 - rejections[m0:].sum())\n",
        "print ('True: H1;  H1 rejected:',  rejections[m0:].sum())\n",
        "\n"
      ]
    },
    {
      "cell_type": "markdown",
      "metadata": {
        "id": "O5i5GUDV6-6G"
      },
      "source": [
        "##### Бонферони (руками)"
      ]
    },
    {
      "cell_type": "code",
      "execution_count": null,
      "metadata": {
        "id": "vb_3Jdii6-6H"
      },
      "outputs": [],
      "source": [
        "# zero mean\n",
        "rejected = 0\n",
        "for x in X[:m0]:\n",
        "    if st.ttest_1samp(x, 0, )[1] < 0.05/200:\n",
        "         rejected += 1\n",
        "\n",
        "print ('True: H0; H1 non-accepted:', m0 - rejected)\n",
        "print ('True: H0; H0 rejected:', rejected)\n",
        "\n",
        "# non-zero mean\n",
        "rejected = 0\n",
        "for x in X[m0:]:\n",
        "    if st.ttest_1samp(x, 0, )[1] < 0.05/200:\n",
        "         rejected += 1\n",
        "\n",
        "print ('True: H1; H1 non-accepted:', m-m0 - rejected)\n",
        "print ('True: H1; H0 rejected:', rejected)"
      ]
    },
    {
      "cell_type": "markdown",
      "metadata": {
        "id": "Tfy32uR06-6I"
      },
      "source": [
        "##### График зависимости мощности для разных поправок"
      ]
    },
    {
      "cell_type": "code",
      "execution_count": null,
      "metadata": {
        "id": "aXegOFxL6-6J"
      },
      "outputs": [],
      "source": [
        "# no correction\n",
        "plt.plot([0, m - 1], [alpha] * 2, label='No correction')\n",
        "\n",
        "# bonferroni\n",
        "bonferroni = alpha / m\n",
        "plt.plot([0, m - 1], [bonferroni] * 2, label='Bonferroni')\n",
        "\n",
        "# holm\n",
        "holm = alpha / np.arange(m, 0, -1)\n",
        "plt.plot(holm, label='Holm')\n",
        "\n",
        "# sidak\n",
        "sidak = 1 - np.power((1. - alpha),  1. / np.arange(m, 0, -1))\n",
        "plt.plot(sidak, label='Sidak', ls='--')\n",
        "\n",
        "# benjamini-hochberg\n",
        "ecdffactor = np.arange(1, m + 1)/float(m)\n",
        "bh = alpha * ecdffactor\n",
        "plt.plot(range(m), bh, label='Benjamini-Hochberg')\n",
        "\n",
        "# benjamini-yekutieli \n",
        "cm = np.sum(1. / np.arange(1, m+1)) \n",
        "ecdffactor = ecdffactor / cm\n",
        "by = alpha * ecdffactor\n",
        "plt.plot(range(m), by, label='Benjamini-Yekutieli')\n",
        "\n",
        "plt.xlabel('i')\n",
        "plt.ylabel('$a_i$')\n",
        "plt.legend(loc='best')\n",
        "\n",
        "plt.show()"
      ]
    },
    {
      "cell_type": "markdown",
      "metadata": {
        "id": "9RdTY7i56-6L"
      },
      "source": [
        "##### График модифицированых уровней значимости"
      ]
    },
    {
      "cell_type": "code",
      "execution_count": null,
      "metadata": {
        "id": "NPIbnA456-6L"
      },
      "outputs": [],
      "source": [
        "def plot_diff_alpha(p_values, loc_plt=None):\n",
        "    '''\n",
        "    Функция для отрисовки модифицированых, отсортированых \n",
        "    уровней значимости для модельной выборки.\n",
        "    \n",
        "    param: p_values --- список уровней значимости\n",
        "    param: loc_plt --- объект matplotlib.pylab где производится отрисовка\n",
        "    \n",
        "    return: loc_plt --- объект matplotlib.pylab после отрисовки\n",
        "    '''\n",
        "    if loc_plt is None:\n",
        "        return None\n",
        "    argsorted_p = np.argsort(p_values)\n",
        "    false = []\n",
        "    true = []\n",
        "    for i, id in enumerate(argsorted_p):   \n",
        "        if id>m0:\n",
        "            false.append((i, p_values[id]))\n",
        "        else:\n",
        "            true.append((i, p_values[id]))\n",
        "    \n",
        "    loc_plt.scatter(*zip(*true), label='True hypothesis', c='b')\n",
        "    loc_plt.scatter(*zip(*false), label='False hypothesis', c='r')\n",
        "    loc_plt.xlabel('sorted i')\n",
        "    loc_plt.ylabel('$\\hat{p}(i)$')\n",
        "    loc_plt.legend(loc='best')\n",
        "    \n",
        "    return loc_plt"
      ]
    },
    {
      "cell_type": "markdown",
      "metadata": {
        "id": "g2ZoYQw76-6N"
      },
      "source": [
        "##### График модифицированых уровней значимости (без поправок)"
      ]
    },
    {
      "cell_type": "code",
      "execution_count": null,
      "metadata": {
        "id": "FNHNgzUK6-6O"
      },
      "outputs": [],
      "source": [
        "p_values = []\n",
        "for x in X:\n",
        "     p_values.append(st.ttest_1samp(x, 0)[1])\n",
        "        \n",
        "plot_diff_alpha(p_values, loc_plt=plt)\n",
        "plt.show()"
      ]
    },
    {
      "cell_type": "markdown",
      "metadata": {
        "id": "kB01iBve6-6P"
      },
      "source": [
        "##### График модифицированых уровней значимости (Bonferroni)"
      ]
    },
    {
      "cell_type": "code",
      "execution_count": null,
      "metadata": {
        "id": "1cq8bDwT6-6R"
      },
      "outputs": [],
      "source": [
        "p_values = []\n",
        "for x in X:\n",
        "     p_values.append(st.ttest_1samp(x, 0)[1])\n",
        "        \n",
        "p_values = multipletests(p_values, method='bonferroni')[1]\n",
        "\n",
        "plot_diff_alpha(p_values, loc_plt=plt)\n",
        "plt.show()"
      ]
    },
    {
      "cell_type": "markdown",
      "metadata": {
        "id": "Xl5IURex6-6S"
      },
      "source": [
        "##### График модифицированых уровней значимости (Holm)"
      ]
    },
    {
      "cell_type": "code",
      "execution_count": null,
      "metadata": {
        "id": "7UYqCfLo6-6T"
      },
      "outputs": [],
      "source": [
        "p_values = []\n",
        "for x in X:\n",
        "     p_values.append(st.ttest_1samp(x, 0)[1])\n",
        "        \n",
        "p_values = multipletests(p_values, method='holm')[1]\n",
        "\n",
        "plot_diff_alpha(p_values, loc_plt=plt)\n",
        "plt.show()"
      ]
    },
    {
      "cell_type": "markdown",
      "metadata": {
        "id": "62FkgRaA6-6T"
      },
      "source": [
        "##### График модифицированых уровней значимости (Holm-Sidak)"
      ]
    },
    {
      "cell_type": "code",
      "execution_count": null,
      "metadata": {
        "id": "uL7P4jy16-6U"
      },
      "outputs": [],
      "source": [
        "p_values = []\n",
        "for x in X:\n",
        "     p_values.append(st.ttest_1samp(x, 0)[1])\n",
        "        \n",
        "p_values = multipletests(p_values, method='holm-sidak')[1]\n",
        "\n",
        "plot_diff_alpha(p_values, loc_plt=plt)\n",
        "plt.show()"
      ]
    },
    {
      "cell_type": "markdown",
      "metadata": {
        "id": "o_aJ9HWH6-6U"
      },
      "source": [
        "##### График модифицированых уровней значимости (Benjamini-Hochberg)"
      ]
    },
    {
      "cell_type": "code",
      "execution_count": null,
      "metadata": {
        "id": "PTTtwqJP6-6U"
      },
      "outputs": [],
      "source": [
        "p_values = []\n",
        "for x in X:\n",
        "     p_values.append(st.ttest_1samp(x, 0)[1])\n",
        "        \n",
        "p_values = multipletests(p_values, method='fdr_bh', )[1]\n",
        "\n",
        "plot_diff_alpha(p_values, loc_plt=plt)\n",
        "plt.show()"
      ]
    },
    {
      "cell_type": "markdown",
      "metadata": {
        "id": "gfz-j5M66-6V"
      },
      "source": [
        "##### График модифицированых уровней значимости (Benjamini-Yekutieli)"
      ]
    },
    {
      "cell_type": "code",
      "execution_count": null,
      "metadata": {
        "id": "qdcjHSPi6-6W"
      },
      "outputs": [],
      "source": [
        "p_values = []\n",
        "for x in X:\n",
        "     p_values.append(st.ttest_1samp(x, 0)[1])\n",
        "        \n",
        "p_values = multipletests(p_values, method='fdr_by', )[1]\n",
        "\n",
        "plot_diff_alpha(p_values, loc_plt=plt)\n",
        "plt.show()"
      ]
    },
    {
      "cell_type": "markdown",
      "metadata": {
        "id": "slWlllYZ6-6W"
      },
      "source": [
        "## Лейкоциты и астма\n",
        "\n",
        "С использованием ДНК-микрочипов были получены анализ изменения генной экспрессии для двух групп детей: больных астмой и здоровых.\n",
        "\n",
        "Источник данных: http://www.ncbi.nlm.nih.gov/sites/GDSbrowser?acc=GDS4896"
      ]
    },
    {
      "cell_type": "markdown",
      "metadata": {
        "id": "OhbZ_3zS6-6X"
      },
      "source": [
        "### Рассмотрим сами данные"
      ]
    },
    {
      "cell_type": "code",
      "execution_count": null,
      "metadata": {
        "id": "I2eLdn-16-6Y"
      },
      "outputs": [],
      "source": [
        "data = pd.read_csv('https://raw.githubusercontent.com/Intelligent-Systems-Phystech/psad/master/seminars/sem4/data/expression.csv', delimiter=';')"
      ]
    },
    {
      "cell_type": "code",
      "execution_count": null,
      "metadata": {
        "id": "dMfvPV5z6-6Y"
      },
      "outputs": [],
      "source": [
        "data.head(5)"
      ]
    },
    {
      "cell_type": "code",
      "source": [
        "len(data)"
      ],
      "metadata": {
        "id": "dpa0IjROMsm3"
      },
      "execution_count": null,
      "outputs": []
    },
    {
      "cell_type": "code",
      "execution_count": null,
      "metadata": {
        "id": "OnZ338ao6-6Z"
      },
      "outputs": [],
      "source": [
        "print('\\n'.join(list(data.columns)))"
      ]
    },
    {
      "cell_type": "markdown",
      "metadata": {
        "id": "VyGxniu56-6Z"
      },
      "source": [
        "### Эксперимент"
      ]
    },
    {
      "cell_type": "markdown",
      "metadata": {
        "id": "tkYb-Fth6-6a"
      },
      "source": [
        "#### Достигаемые уровни значимости в t-Критерии Стьюдента"
      ]
    },
    {
      "cell_type": "code",
      "execution_count": null,
      "metadata": {
        "id": "EglhFm5P6-6b"
      },
      "outputs": [],
      "source": [
        "data_np = data.values\n",
        "def get_healthy(i):\n",
        "    '''\n",
        "    Возвращает всех здоровых пациентов для i-го микрочипа\n",
        "    '''\n",
        "    return data_np[i, 2:20]\n",
        "\n",
        "def get_asthma(i):\n",
        "    '''\n",
        "    Возвращает всех больных астмой пациентов для i-го микрочипа\n",
        "    '''\n",
        "    return data_np[i, 39:56]\n",
        "\n",
        "def get_pvalue_t_test(i):\n",
        "    '''\n",
        "    Возвращает p-value для критерия Стьюдента для независимых выборок\n",
        "    '''\n",
        "    ### Ваш код тут ###\n",
        "    return ttest_ind(get_healthy(i), get_asthma(i), usevar='unequal')[1]\n",
        "    \n",
        "p_values = list(map(get_pvalue_t_test, range(data_np.shape[0])))\n",
        "p_values = np.array(p_values)"
      ]
    },
    {
      "cell_type": "markdown",
      "metadata": {
        "id": "KW5FKl1a6-6c"
      },
      "source": [
        "#### Модифицированые уровни значимости"
      ]
    },
    {
      "cell_type": "code",
      "execution_count": null,
      "metadata": {
        "id": "RUN-Mpza6-6d"
      },
      "outputs": [],
      "source": [
        "### Ваш код тут ###\n",
        "\n",
        "### Ваш код тут ###\n",
        "\n",
        "p_holm = multipletests(p_values, method='holm')[1]\n",
        "\n",
        "p_bh = multipletests(p_values, method='fdr_bh', )[1]"
      ]
    },
    {
      "cell_type": "code",
      "source": [
        "p_values"
      ],
      "metadata": {
        "id": "Hp2nn5d9NY4a"
      },
      "execution_count": null,
      "outputs": []
    },
    {
      "cell_type": "markdown",
      "metadata": {
        "id": "mVnRwplP6-6d"
      },
      "source": [
        "#### Распределения исходных и модифицированных достигаемых уровней значимости"
      ]
    },
    {
      "cell_type": "code",
      "execution_count": null,
      "metadata": {
        "id": "FINoYabH6-6e"
      },
      "outputs": [],
      "source": [
        "plt.plot(sorted(p_values), label='no correction')\n",
        "\n",
        "plt.plot(sorted(p_holm), label='holm')\n",
        "\n",
        "plt.plot(sorted(p_bh), label='bh')\n",
        "\n",
        "plt.xlabel('sorted i')\n",
        "plt.ylabel('$\\hat{p}(i)$')\n",
        "plt.legend(loc='best')\n",
        "plt.show()"
      ]
    },
    {
      "cell_type": "markdown",
      "metadata": {
        "id": "lDRlbBAg6-6f"
      },
      "source": [
        "#### Количество генов, экспрессия которых статистически значимо отличается при поправке методами Холма и Бенджамини-Хохберга:"
      ]
    },
    {
      "cell_type": "code",
      "execution_count": null,
      "metadata": {
        "id": "zgyAC2T96-6g"
      },
      "outputs": [],
      "source": [
        "print('Количество генов для которых значимо отличается: {}\\t(no correction)'.format((p_values <= 0.05).sum()))\n",
        "print('Количество генов для которых значимо отличается: {}\\t(holm)'.format((p_holm <= 0.05).sum()))\n",
        "print('Количество генов для которых значимо отличается: {}\\t(bh)'.format((p_bh <= 0.05).sum()))"
      ]
    },
    {
      "cell_type": "markdown",
      "metadata": {
        "id": "mJvPNq8f6-6i"
      },
      "source": [
        "### На микрочипах есть много проб к малоизученным участкам генома, у которых даже нет названия; их можно сразу удалить из рассмотрения (Эксперимент 2)"
      ]
    },
    {
      "cell_type": "code",
      "execution_count": null,
      "metadata": {
        "id": "oPUXepEn6-6j"
      },
      "outputs": [],
      "source": [
        "reduced_data = data[data['Gene title'].isnull() == False]\n",
        "reduced_data.shape, data.shape"
      ]
    },
    {
      "cell_type": "markdown",
      "metadata": {
        "id": "qXaW9Yit6-6k"
      },
      "source": [
        "#### Рассмотрим как изменились уровни значимости"
      ]
    },
    {
      "cell_type": "code",
      "execution_count": null,
      "metadata": {
        "id": "KZ1d1pPK6-6k"
      },
      "outputs": [],
      "source": [
        "data_np = reduced_data.values\n",
        "\n",
        "### Ваш код тут ###\n",
        "p_values = list(map(get_pvalue_t_test, range(data_np.shape[0])))\n",
        "p_values = np.array(p_values)"
      ]
    },
    {
      "cell_type": "code",
      "execution_count": null,
      "metadata": {
        "id": "IdbSRk_M6-6l"
      },
      "outputs": [],
      "source": [
        "### Ваш код тут ###\n",
        "\n",
        "### Ваш код тут ###\n",
        "\n",
        "p_holm = multipletests(p_values, method='holm')[1]\n",
        "\n",
        "p_bh = multipletests(p_values, method='fdr_bh')[1]"
      ]
    },
    {
      "cell_type": "code",
      "execution_count": null,
      "metadata": {
        "id": "5f5IKA4L6-6s"
      },
      "outputs": [],
      "source": [
        "plt.plot(sorted(p_values), label='no correction')\n",
        "\n",
        "plt.plot(sorted(p_holm), label='holm')\n",
        "\n",
        "plt.plot(sorted(p_bh), label='bh')\n",
        "\n",
        "plt.xlabel('sorted i')\n",
        "plt.ylabel('$\\hat{p}(i)$')\n",
        "plt.legend(loc='best')\n",
        "plt.show()"
      ]
    },
    {
      "cell_type": "code",
      "execution_count": null,
      "metadata": {
        "id": "BP85OYBf6-6v"
      },
      "outputs": [],
      "source": [
        "print('Количество генов для которых значимо отличается: {}\\t(no correction)'.format((p_values <= 0.05).sum()))\n",
        "print('Количество генов для которых значимо отличается: {}\\t(holm)'.format((p_holm <= 0.05).sum()))\n",
        "print('Количество генов для которых значимо отличается: {}\\t(bh)'.format((p_bh <= 0.05).sum()))"
      ]
    },
    {
      "cell_type": "markdown",
      "metadata": {
        "id": "DQ8GJTCF6-6y"
      },
      "source": [
        "## Сравнение качества классификаторов\n",
        "\n",
        "Дано: AUC различных версий алгоритма C4.5, посчитанный на 15 датасетах.\n",
        "\n",
        "**Demsar J. (2006). Statistical Comparisons of Classifiers over Multiple Data Sets. Journal of Machine Learning Research, 7, 1–30.**"
      ]
    },
    {
      "cell_type": "markdown",
      "metadata": {
        "id": "HxvxYGpJ6-6y"
      },
      "source": [
        "### Рассмотрим данные"
      ]
    },
    {
      "cell_type": "code",
      "execution_count": null,
      "metadata": {
        "id": "UAwYCRc16-6z"
      },
      "outputs": [],
      "source": [
        "data = pd.read_csv('https://raw.githubusercontent.com/Intelligent-Systems-Phystech/psad/master/seminars/sem4/data/auc.txt', delimiter='\\t')"
      ]
    },
    {
      "cell_type": "code",
      "execution_count": null,
      "metadata": {
        "id": "-oWQR1-p6-60"
      },
      "outputs": [],
      "source": [
        "data.head(5)"
      ]
    },
    {
      "cell_type": "markdown",
      "metadata": {
        "id": "YFu_T3dM6-60"
      },
      "source": [
        "### Эксперимент\n",
        "\n",
        "Между какими из версий есть значимые различия?\n",
        "\n",
        "Сравним все значения критерия качества попарно с помощью критерия знаковых рангов Уилкоксона (```st.wilcoxon```):"
      ]
    },
    {
      "cell_type": "code",
      "execution_count": null,
      "metadata": {
        "id": "Dtp63s7S6-61"
      },
      "outputs": [],
      "source": [
        "p_values= []\n",
        "for i in range(1, 5):\n",
        "    for j in range(i+1, 5):\n",
        "        test_result = st.wilcoxon(data.iloc[:, i].values, data.iloc[:, j].values) ### Ваш код тут ###\n",
        "        p_values += [test_result[1]]\n",
        "        print(data.columns[i], data.columns[j], p_values[-1])"
      ]
    },
    {
      "cell_type": "markdown",
      "metadata": {
        "id": "Im4peRla6-62"
      },
      "source": [
        "### Разные поправки"
      ]
    },
    {
      "cell_type": "code",
      "execution_count": null,
      "metadata": {
        "id": "ps4LkNIE6-63"
      },
      "outputs": [],
      "source": [
        "for k in ['bonferroni', 'holm', 'fdr_bh', 'fdr_by']:\n",
        "    rejects, p_val, *_ = multipletests(p_values, method=k)\n",
        "\n",
        "    print(f'{k}\\n{str(rejects)}\\n{str(p_val)}\\n\\n')"
      ]
    }
  ],
  "metadata": {
    "celltoolbar": "Slideshow",
    "kernelspec": {
      "display_name": "Python 3",
      "language": "python",
      "name": "python3"
    },
    "language_info": {
      "codemirror_mode": {
        "name": "ipython",
        "version": 3
      },
      "file_extension": ".py",
      "mimetype": "text/x-python",
      "name": "python",
      "nbconvert_exporter": "python",
      "pygments_lexer": "ipython3",
      "version": "3.7.3"
    },
    "colab": {
      "name": "main.ipynb",
      "provenance": []
    }
  },
  "nbformat": 4,
  "nbformat_minor": 0
}